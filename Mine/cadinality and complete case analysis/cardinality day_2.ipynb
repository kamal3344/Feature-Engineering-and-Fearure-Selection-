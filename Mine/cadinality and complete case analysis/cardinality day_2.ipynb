{
 "cells": [
  {
   "cell_type": "code",
   "execution_count": 98,
   "id": "ade43511",
   "metadata": {},
   "outputs": [],
   "source": [
    "import numpy as np \n",
    "import pandas as pd \n",
    "import matplotlib.pyplot as plt \n",
    "import seaborn as sns"
   ]
  },
  {
   "cell_type": "code",
   "execution_count": 99,
   "id": "5e9fb60e",
   "metadata": {},
   "outputs": [],
   "source": [
    "df = pd.read_csv(\"E:\\\\Feature engineering\\\\Datasets\\\\titanic.csv\")"
   ]
  },
  {
   "cell_type": "code",
   "execution_count": 100,
   "id": "93857912",
   "metadata": {},
   "outputs": [
    {
     "data": {
      "text/html": [
       "<div>\n",
       "<style scoped>\n",
       "    .dataframe tbody tr th:only-of-type {\n",
       "        vertical-align: middle;\n",
       "    }\n",
       "\n",
       "    .dataframe tbody tr th {\n",
       "        vertical-align: top;\n",
       "    }\n",
       "\n",
       "    .dataframe thead th {\n",
       "        text-align: right;\n",
       "    }\n",
       "</style>\n",
       "<table border=\"1\" class=\"dataframe\">\n",
       "  <thead>\n",
       "    <tr style=\"text-align: right;\">\n",
       "      <th></th>\n",
       "      <th>PassengerId</th>\n",
       "      <th>Survived</th>\n",
       "      <th>Pclass</th>\n",
       "      <th>Name</th>\n",
       "      <th>Sex</th>\n",
       "      <th>Age</th>\n",
       "      <th>SibSp</th>\n",
       "      <th>Parch</th>\n",
       "      <th>Ticket</th>\n",
       "      <th>Fare</th>\n",
       "      <th>Cabin</th>\n",
       "      <th>Embarked</th>\n",
       "    </tr>\n",
       "  </thead>\n",
       "  <tbody>\n",
       "    <tr>\n",
       "      <th>0</th>\n",
       "      <td>892</td>\n",
       "      <td>0</td>\n",
       "      <td>3</td>\n",
       "      <td>Kelly, Mr. James</td>\n",
       "      <td>male</td>\n",
       "      <td>34.5</td>\n",
       "      <td>0</td>\n",
       "      <td>0</td>\n",
       "      <td>330911</td>\n",
       "      <td>7.8292</td>\n",
       "      <td>NaN</td>\n",
       "      <td>Q</td>\n",
       "    </tr>\n",
       "    <tr>\n",
       "      <th>1</th>\n",
       "      <td>893</td>\n",
       "      <td>1</td>\n",
       "      <td>3</td>\n",
       "      <td>Wilkes, Mrs. James (Ellen Needs)</td>\n",
       "      <td>female</td>\n",
       "      <td>47.0</td>\n",
       "      <td>1</td>\n",
       "      <td>0</td>\n",
       "      <td>363272</td>\n",
       "      <td>7.0000</td>\n",
       "      <td>NaN</td>\n",
       "      <td>S</td>\n",
       "    </tr>\n",
       "    <tr>\n",
       "      <th>2</th>\n",
       "      <td>894</td>\n",
       "      <td>0</td>\n",
       "      <td>2</td>\n",
       "      <td>Myles, Mr. Thomas Francis</td>\n",
       "      <td>male</td>\n",
       "      <td>62.0</td>\n",
       "      <td>0</td>\n",
       "      <td>0</td>\n",
       "      <td>240276</td>\n",
       "      <td>9.6875</td>\n",
       "      <td>NaN</td>\n",
       "      <td>Q</td>\n",
       "    </tr>\n",
       "    <tr>\n",
       "      <th>3</th>\n",
       "      <td>895</td>\n",
       "      <td>0</td>\n",
       "      <td>3</td>\n",
       "      <td>Wirz, Mr. Albert</td>\n",
       "      <td>male</td>\n",
       "      <td>27.0</td>\n",
       "      <td>0</td>\n",
       "      <td>0</td>\n",
       "      <td>315154</td>\n",
       "      <td>8.6625</td>\n",
       "      <td>NaN</td>\n",
       "      <td>S</td>\n",
       "    </tr>\n",
       "    <tr>\n",
       "      <th>4</th>\n",
       "      <td>896</td>\n",
       "      <td>1</td>\n",
       "      <td>3</td>\n",
       "      <td>Hirvonen, Mrs. Alexander (Helga E Lindqvist)</td>\n",
       "      <td>female</td>\n",
       "      <td>22.0</td>\n",
       "      <td>1</td>\n",
       "      <td>1</td>\n",
       "      <td>3101298</td>\n",
       "      <td>12.2875</td>\n",
       "      <td>NaN</td>\n",
       "      <td>S</td>\n",
       "    </tr>\n",
       "  </tbody>\n",
       "</table>\n",
       "</div>"
      ],
      "text/plain": [
       "   PassengerId  Survived  Pclass  \\\n",
       "0          892         0       3   \n",
       "1          893         1       3   \n",
       "2          894         0       2   \n",
       "3          895         0       3   \n",
       "4          896         1       3   \n",
       "\n",
       "                                           Name     Sex   Age  SibSp  Parch  \\\n",
       "0                              Kelly, Mr. James    male  34.5      0      0   \n",
       "1              Wilkes, Mrs. James (Ellen Needs)  female  47.0      1      0   \n",
       "2                     Myles, Mr. Thomas Francis    male  62.0      0      0   \n",
       "3                              Wirz, Mr. Albert    male  27.0      0      0   \n",
       "4  Hirvonen, Mrs. Alexander (Helga E Lindqvist)  female  22.0      1      1   \n",
       "\n",
       "    Ticket     Fare Cabin Embarked  \n",
       "0   330911   7.8292   NaN        Q  \n",
       "1   363272   7.0000   NaN        S  \n",
       "2   240276   9.6875   NaN        Q  \n",
       "3   315154   8.6625   NaN        S  \n",
       "4  3101298  12.2875   NaN        S  "
      ]
     },
     "execution_count": 100,
     "metadata": {},
     "output_type": "execute_result"
    }
   ],
   "source": [
    "df.head()"
   ]
  },
  {
   "cell_type": "code",
   "execution_count": 101,
   "id": "88a8a168",
   "metadata": {},
   "outputs": [
    {
     "data": {
      "text/plain": [
       "PassengerId      0\n",
       "Survived         0\n",
       "Pclass           0\n",
       "Name             0\n",
       "Sex              0\n",
       "Age             86\n",
       "SibSp            0\n",
       "Parch            0\n",
       "Ticket           0\n",
       "Fare             1\n",
       "Cabin          327\n",
       "Embarked         0\n",
       "dtype: int64"
      ]
     },
     "execution_count": 101,
     "metadata": {},
     "output_type": "execute_result"
    }
   ],
   "source": [
    "df.isnull().sum()"
   ]
  },
  {
   "cell_type": "code",
   "execution_count": 102,
   "id": "45736e34",
   "metadata": {},
   "outputs": [
    {
     "data": {
      "text/plain": [
       "Index(['PassengerId', 'Survived', 'Pclass', 'Name', 'Sex', 'Age', 'SibSp',\n",
       "       'Parch', 'Ticket', 'Fare', 'Cabin', 'Embarked'],\n",
       "      dtype='object')"
      ]
     },
     "execution_count": 102,
     "metadata": {},
     "output_type": "execute_result"
    }
   ],
   "source": [
    "df.columns"
   ]
  },
  {
   "cell_type": "code",
   "execution_count": 103,
   "id": "f9f4066d",
   "metadata": {},
   "outputs": [],
   "source": [
    "df = df.drop(['PassengerId','Name'],axis = 1)"
   ]
  },
  {
   "cell_type": "code",
   "execution_count": 104,
   "id": "4431503d",
   "metadata": {},
   "outputs": [],
   "source": [
    "df_c = df.select_dtypes(include = 'object')"
   ]
  },
  {
   "cell_type": "code",
   "execution_count": 105,
   "id": "88851869",
   "metadata": {},
   "outputs": [],
   "source": [
    "df_c = df_c.drop(['Ticket'],axis = 1)"
   ]
  },
  {
   "cell_type": "code",
   "execution_count": 106,
   "id": "3a638af4",
   "metadata": {},
   "outputs": [
    {
     "data": {
      "text/html": [
       "<div>\n",
       "<style scoped>\n",
       "    .dataframe tbody tr th:only-of-type {\n",
       "        vertical-align: middle;\n",
       "    }\n",
       "\n",
       "    .dataframe tbody tr th {\n",
       "        vertical-align: top;\n",
       "    }\n",
       "\n",
       "    .dataframe thead th {\n",
       "        text-align: right;\n",
       "    }\n",
       "</style>\n",
       "<table border=\"1\" class=\"dataframe\">\n",
       "  <thead>\n",
       "    <tr style=\"text-align: right;\">\n",
       "      <th></th>\n",
       "      <th>Sex</th>\n",
       "      <th>Cabin</th>\n",
       "      <th>Embarked</th>\n",
       "    </tr>\n",
       "  </thead>\n",
       "  <tbody>\n",
       "    <tr>\n",
       "      <th>0</th>\n",
       "      <td>male</td>\n",
       "      <td>NaN</td>\n",
       "      <td>Q</td>\n",
       "    </tr>\n",
       "    <tr>\n",
       "      <th>1</th>\n",
       "      <td>female</td>\n",
       "      <td>NaN</td>\n",
       "      <td>S</td>\n",
       "    </tr>\n",
       "    <tr>\n",
       "      <th>2</th>\n",
       "      <td>male</td>\n",
       "      <td>NaN</td>\n",
       "      <td>Q</td>\n",
       "    </tr>\n",
       "    <tr>\n",
       "      <th>3</th>\n",
       "      <td>male</td>\n",
       "      <td>NaN</td>\n",
       "      <td>S</td>\n",
       "    </tr>\n",
       "    <tr>\n",
       "      <th>4</th>\n",
       "      <td>female</td>\n",
       "      <td>NaN</td>\n",
       "      <td>S</td>\n",
       "    </tr>\n",
       "  </tbody>\n",
       "</table>\n",
       "</div>"
      ],
      "text/plain": [
       "      Sex Cabin Embarked\n",
       "0    male   NaN        Q\n",
       "1  female   NaN        S\n",
       "2    male   NaN        Q\n",
       "3    male   NaN        S\n",
       "4  female   NaN        S"
      ]
     },
     "execution_count": 106,
     "metadata": {},
     "output_type": "execute_result"
    }
   ],
   "source": [
    "df_c.head()"
   ]
  },
  {
   "cell_type": "code",
   "execution_count": 107,
   "id": "2d2b2a08",
   "metadata": {},
   "outputs": [
    {
     "name": "stdout",
     "output_type": "stream",
     "text": [
      "Number of unique labels in Sex column = 2 \n",
      "\n",
      "Number of unique labels in Cabin column = 77 \n",
      "\n",
      "Number of unique labels in Embarked column = 3 \n"
     ]
    }
   ],
   "source": [
    "print(\"Number of unique labels in Sex column = {} \".format(len(df_c.Sex.unique())))\n",
    "print()\n",
    "print(\"Number of unique labels in Cabin column = {} \".format(len(df_c.Cabin.unique())))\n",
    "print()\n",
    "print(\"Number of unique labels in Embarked column = {} \".format(len(df_c.Embarked.unique())))"
   ]
  },
  {
   "cell_type": "code",
   "execution_count": 108,
   "id": "ea6d4016",
   "metadata": {},
   "outputs": [
    {
     "data": {
      "text/plain": [
       "Sex           0\n",
       "Cabin       327\n",
       "Embarked      0\n",
       "dtype: int64"
      ]
     },
     "execution_count": 108,
     "metadata": {},
     "output_type": "execute_result"
    }
   ],
   "source": [
    "df_c.isnull().sum()"
   ]
  },
  {
   "cell_type": "markdown",
   "id": "038a9257",
   "metadata": {},
   "source": [
    "### Converting Cabin feature data into single label and checking cardinality "
   ]
  },
  {
   "cell_type": "code",
   "execution_count": 109,
   "id": "dcad5843",
   "metadata": {},
   "outputs": [],
   "source": [
    "df_c['Cabin_single'] = df_c['Cabin'].astype(str).str[0]\n"
   ]
  },
  {
   "cell_type": "code",
   "execution_count": 110,
   "id": "f89a4588",
   "metadata": {},
   "outputs": [
    {
     "data": {
      "text/plain": [
       "Index(['Sex', 'Cabin', 'Embarked', 'Cabin_single'], dtype='object')"
      ]
     },
     "execution_count": 110,
     "metadata": {},
     "output_type": "execute_result"
    }
   ],
   "source": [
    "df_c.columns"
   ]
  },
  {
   "cell_type": "code",
   "execution_count": 111,
   "id": "a1d07ee3",
   "metadata": {},
   "outputs": [
    {
     "data": {
      "text/html": [
       "<div>\n",
       "<style scoped>\n",
       "    .dataframe tbody tr th:only-of-type {\n",
       "        vertical-align: middle;\n",
       "    }\n",
       "\n",
       "    .dataframe tbody tr th {\n",
       "        vertical-align: top;\n",
       "    }\n",
       "\n",
       "    .dataframe thead th {\n",
       "        text-align: right;\n",
       "    }\n",
       "</style>\n",
       "<table border=\"1\" class=\"dataframe\">\n",
       "  <thead>\n",
       "    <tr style=\"text-align: right;\">\n",
       "      <th></th>\n",
       "      <th>Sex</th>\n",
       "      <th>Cabin</th>\n",
       "      <th>Embarked</th>\n",
       "      <th>Cabin_single</th>\n",
       "    </tr>\n",
       "  </thead>\n",
       "  <tbody>\n",
       "    <tr>\n",
       "      <th>0</th>\n",
       "      <td>male</td>\n",
       "      <td>NaN</td>\n",
       "      <td>Q</td>\n",
       "      <td>n</td>\n",
       "    </tr>\n",
       "    <tr>\n",
       "      <th>1</th>\n",
       "      <td>female</td>\n",
       "      <td>NaN</td>\n",
       "      <td>S</td>\n",
       "      <td>n</td>\n",
       "    </tr>\n",
       "    <tr>\n",
       "      <th>2</th>\n",
       "      <td>male</td>\n",
       "      <td>NaN</td>\n",
       "      <td>Q</td>\n",
       "      <td>n</td>\n",
       "    </tr>\n",
       "    <tr>\n",
       "      <th>3</th>\n",
       "      <td>male</td>\n",
       "      <td>NaN</td>\n",
       "      <td>S</td>\n",
       "      <td>n</td>\n",
       "    </tr>\n",
       "    <tr>\n",
       "      <th>4</th>\n",
       "      <td>female</td>\n",
       "      <td>NaN</td>\n",
       "      <td>S</td>\n",
       "      <td>n</td>\n",
       "    </tr>\n",
       "  </tbody>\n",
       "</table>\n",
       "</div>"
      ],
      "text/plain": [
       "      Sex Cabin Embarked Cabin_single\n",
       "0    male   NaN        Q            n\n",
       "1  female   NaN        S            n\n",
       "2    male   NaN        Q            n\n",
       "3    male   NaN        S            n\n",
       "4  female   NaN        S            n"
      ]
     },
     "execution_count": 111,
     "metadata": {},
     "output_type": "execute_result"
    }
   ],
   "source": [
    "df_c.head()"
   ]
  },
  {
   "cell_type": "code",
   "execution_count": 112,
   "id": "1ec5c1de",
   "metadata": {},
   "outputs": [
    {
     "data": {
      "text/plain": [
       "77"
      ]
     },
     "execution_count": 112,
     "metadata": {},
     "output_type": "execute_result"
    }
   ],
   "source": [
    "len(df_c.Cabin.unique())"
   ]
  },
  {
   "cell_type": "code",
   "execution_count": 113,
   "id": "5a1f7ddf",
   "metadata": {},
   "outputs": [
    {
     "data": {
      "text/plain": [
       "array(['n', 'B', 'E', 'A', 'C', 'D', 'F', 'G'], dtype=object)"
      ]
     },
     "execution_count": 113,
     "metadata": {},
     "output_type": "execute_result"
    }
   ],
   "source": [
    "df_c.Cabin_single.unique()"
   ]
  },
  {
   "cell_type": "code",
   "execution_count": 114,
   "id": "3d42b8c6",
   "metadata": {},
   "outputs": [
    {
     "data": {
      "text/plain": [
       "8"
      ]
     },
     "execution_count": 114,
     "metadata": {},
     "output_type": "execute_result"
    }
   ],
   "source": [
    "len(df_c.Cabin_single.unique())"
   ]
  },
  {
   "cell_type": "code",
   "execution_count": 115,
   "id": "f69d8463",
   "metadata": {},
   "outputs": [],
   "source": [
    "from sklearn.model_selection import train_test_split"
   ]
  },
  {
   "cell_type": "code",
   "execution_count": 116,
   "id": "9cb77c7a",
   "metadata": {},
   "outputs": [],
   "source": [
    "X_train,X_test,y_train , y_test = train_test_split(df_c , df['Survived'] , test_size=0.22 , random_state=42)"
   ]
  },
  {
   "cell_type": "code",
   "execution_count": 117,
   "id": "bd4388db",
   "metadata": {},
   "outputs": [
    {
     "data": {
      "text/html": [
       "<div>\n",
       "<style scoped>\n",
       "    .dataframe tbody tr th:only-of-type {\n",
       "        vertical-align: middle;\n",
       "    }\n",
       "\n",
       "    .dataframe tbody tr th {\n",
       "        vertical-align: top;\n",
       "    }\n",
       "\n",
       "    .dataframe thead th {\n",
       "        text-align: right;\n",
       "    }\n",
       "</style>\n",
       "<table border=\"1\" class=\"dataframe\">\n",
       "  <thead>\n",
       "    <tr style=\"text-align: right;\">\n",
       "      <th></th>\n",
       "      <th>Sex</th>\n",
       "      <th>Cabin</th>\n",
       "      <th>Embarked</th>\n",
       "      <th>Cabin_single</th>\n",
       "    </tr>\n",
       "  </thead>\n",
       "  <tbody>\n",
       "    <tr>\n",
       "      <th>327</th>\n",
       "      <td>male</td>\n",
       "      <td>NaN</td>\n",
       "      <td>C</td>\n",
       "      <td>n</td>\n",
       "    </tr>\n",
       "    <tr>\n",
       "      <th>5</th>\n",
       "      <td>male</td>\n",
       "      <td>NaN</td>\n",
       "      <td>S</td>\n",
       "      <td>n</td>\n",
       "    </tr>\n",
       "    <tr>\n",
       "      <th>45</th>\n",
       "      <td>male</td>\n",
       "      <td>NaN</td>\n",
       "      <td>S</td>\n",
       "      <td>n</td>\n",
       "    </tr>\n",
       "    <tr>\n",
       "      <th>140</th>\n",
       "      <td>female</td>\n",
       "      <td>NaN</td>\n",
       "      <td>S</td>\n",
       "      <td>n</td>\n",
       "    </tr>\n",
       "    <tr>\n",
       "      <th>145</th>\n",
       "      <td>male</td>\n",
       "      <td>NaN</td>\n",
       "      <td>S</td>\n",
       "      <td>n</td>\n",
       "    </tr>\n",
       "  </tbody>\n",
       "</table>\n",
       "</div>"
      ],
      "text/plain": [
       "        Sex Cabin Embarked Cabin_single\n",
       "327    male   NaN        C            n\n",
       "5      male   NaN        S            n\n",
       "45     male   NaN        S            n\n",
       "140  female   NaN        S            n\n",
       "145    male   NaN        S            n"
      ]
     },
     "execution_count": 117,
     "metadata": {},
     "output_type": "execute_result"
    }
   ],
   "source": [
    "X_train.head()"
   ]
  },
  {
   "cell_type": "code",
   "execution_count": 118,
   "id": "22857752",
   "metadata": {},
   "outputs": [
    {
     "data": {
      "text/html": [
       "<div>\n",
       "<style scoped>\n",
       "    .dataframe tbody tr th:only-of-type {\n",
       "        vertical-align: middle;\n",
       "    }\n",
       "\n",
       "    .dataframe tbody tr th {\n",
       "        vertical-align: top;\n",
       "    }\n",
       "\n",
       "    .dataframe thead th {\n",
       "        text-align: right;\n",
       "    }\n",
       "</style>\n",
       "<table border=\"1\" class=\"dataframe\">\n",
       "  <thead>\n",
       "    <tr style=\"text-align: right;\">\n",
       "      <th></th>\n",
       "      <th>Sex</th>\n",
       "      <th>Cabin</th>\n",
       "      <th>Embarked</th>\n",
       "      <th>Cabin_single</th>\n",
       "    </tr>\n",
       "  </thead>\n",
       "  <tbody>\n",
       "    <tr>\n",
       "      <th>321</th>\n",
       "      <td>male</td>\n",
       "      <td>F E57</td>\n",
       "      <td>C</td>\n",
       "      <td>F</td>\n",
       "    </tr>\n",
       "    <tr>\n",
       "      <th>324</th>\n",
       "      <td>female</td>\n",
       "      <td>NaN</td>\n",
       "      <td>S</td>\n",
       "      <td>n</td>\n",
       "    </tr>\n",
       "    <tr>\n",
       "      <th>388</th>\n",
       "      <td>male</td>\n",
       "      <td>NaN</td>\n",
       "      <td>Q</td>\n",
       "      <td>n</td>\n",
       "    </tr>\n",
       "    <tr>\n",
       "      <th>56</th>\n",
       "      <td>male</td>\n",
       "      <td>NaN</td>\n",
       "      <td>S</td>\n",
       "      <td>n</td>\n",
       "    </tr>\n",
       "    <tr>\n",
       "      <th>153</th>\n",
       "      <td>female</td>\n",
       "      <td>NaN</td>\n",
       "      <td>S</td>\n",
       "      <td>n</td>\n",
       "    </tr>\n",
       "  </tbody>\n",
       "</table>\n",
       "</div>"
      ],
      "text/plain": [
       "        Sex  Cabin Embarked Cabin_single\n",
       "321    male  F E57        C            F\n",
       "324  female    NaN        S            n\n",
       "388    male    NaN        Q            n\n",
       "56     male    NaN        S            n\n",
       "153  female    NaN        S            n"
      ]
     },
     "execution_count": 118,
     "metadata": {},
     "output_type": "execute_result"
    }
   ],
   "source": [
    "X_test.head()"
   ]
  },
  {
   "cell_type": "code",
   "execution_count": 119,
   "id": "42557025",
   "metadata": {},
   "outputs": [
    {
     "data": {
      "text/plain": [
       "327    0\n",
       "5      0\n",
       "45     0\n",
       "140    1\n",
       "145    0\n",
       "Name: Survived, dtype: int64"
      ]
     },
     "execution_count": 119,
     "metadata": {},
     "output_type": "execute_result"
    }
   ],
   "source": [
    "y_train.head()"
   ]
  },
  {
   "cell_type": "code",
   "execution_count": 120,
   "id": "99ef4ac0",
   "metadata": {},
   "outputs": [
    {
     "data": {
      "text/plain": [
       "321    0\n",
       "324    1\n",
       "388    0\n",
       "56     0\n",
       "153    1\n",
       "Name: Survived, dtype: int64"
      ]
     },
     "execution_count": 120,
     "metadata": {},
     "output_type": "execute_result"
    }
   ],
   "source": [
    "y_test.head()"
   ]
  },
  {
   "cell_type": "markdown",
   "id": "3ec76469",
   "metadata": {},
   "source": [
    "### checking whether labels in Sex column were equally divide or not "
   ]
  },
  {
   "cell_type": "code",
   "execution_count": 121,
   "id": "50e2024c",
   "metadata": {},
   "outputs": [
    {
     "name": "stdout",
     "output_type": "stream",
     "text": [
      "0\n"
     ]
    }
   ],
   "source": [
    "train_sex = [i for i in X_train['Sex'].unique() if i not in X_test['Sex'].unique()]\n",
    "print(len(train_sex))"
   ]
  },
  {
   "cell_type": "code",
   "execution_count": 122,
   "id": "e9ece82e",
   "metadata": {},
   "outputs": [
    {
     "name": "stdout",
     "output_type": "stream",
     "text": [
      "0\n"
     ]
    }
   ],
   "source": [
    "test_sex = [i for i in X_test['Sex'].unique() if i not in X_train['Sex'].unique()]\n",
    "print(len(test_sex))"
   ]
  },
  {
   "cell_type": "markdown",
   "id": "3fdcd7da",
   "metadata": {},
   "source": [
    "### checking whether labels in Embarked column were equally divide or not"
   ]
  },
  {
   "cell_type": "code",
   "execution_count": 123,
   "id": "55244ad5",
   "metadata": {},
   "outputs": [
    {
     "name": "stdout",
     "output_type": "stream",
     "text": [
      "0\n"
     ]
    }
   ],
   "source": [
    "train_embarked = [i for i in X_train['Embarked'].unique() if i not in X_test['Embarked'].unique()]\n",
    "print(len(train_embarked))"
   ]
  },
  {
   "cell_type": "code",
   "execution_count": 124,
   "id": "593a0766",
   "metadata": {},
   "outputs": [
    {
     "name": "stdout",
     "output_type": "stream",
     "text": [
      "0\n"
     ]
    }
   ],
   "source": [
    "test_embarked = [i for i in X_test['Embarked'].unique() if i not in X_train['Embarked'].unique()]\n",
    "print(len(test_embarked))"
   ]
  },
  {
   "cell_type": "markdown",
   "id": "c24e4e13",
   "metadata": {},
   "source": [
    "### checking whether labels in Embarked column were equally divide or not"
   ]
  },
  {
   "cell_type": "code",
   "execution_count": 125,
   "id": "2aa07d61",
   "metadata": {},
   "outputs": [
    {
     "name": "stdout",
     "output_type": "stream",
     "text": [
      "58\n"
     ]
    }
   ],
   "source": [
    "train_Cabin = [i for i in X_train['Cabin'].unique() if i not in X_test['Cabin'].unique()]\n",
    "print(len(train_Cabin))"
   ]
  },
  {
   "cell_type": "markdown",
   "id": "694b3a9b",
   "metadata": {},
   "source": [
    "- there are 58 lables which are in train data part and not in test data part "
   ]
  },
  {
   "cell_type": "code",
   "execution_count": 126,
   "id": "df88792f",
   "metadata": {},
   "outputs": [
    {
     "name": "stdout",
     "output_type": "stream",
     "text": [
      "17\n"
     ]
    }
   ],
   "source": [
    "test_Cabin = [i for i in X_test['Cabin'].unique() if i not in X_train['Cabin'].unique()]\n",
    "print(len(test_Cabin))"
   ]
  },
  {
   "cell_type": "markdown",
   "id": "bf59e9d5",
   "metadata": {},
   "source": [
    "- They are 17 lables which are in test data and not in training data , This huge cadinality definatelly harm our model so , we can select only staring part of the label ."
   ]
  },
  {
   "cell_type": "markdown",
   "id": "940bb0f0",
   "metadata": {},
   "source": [
    "### checking whether cabin single selected column divide perfectly or not for train and test part "
   ]
  },
  {
   "cell_type": "code",
   "execution_count": 127,
   "id": "fd7917cb",
   "metadata": {},
   "outputs": [
    {
     "name": "stdout",
     "output_type": "stream",
     "text": [
      "1\n",
      "['G']\n"
     ]
    }
   ],
   "source": [
    "train_Cabin_single = [i for i in X_train['Cabin_single'].unique() if i not in X_test['Cabin_single'].unique()]\n",
    "print(len(train_Cabin_single))\n",
    "print(train_Cabin_single)"
   ]
  },
  {
   "cell_type": "code",
   "execution_count": 128,
   "id": "4a3f72d2",
   "metadata": {},
   "outputs": [
    {
     "data": {
      "text/plain": [
       "array(['n', 'E', 'B', 'C', 'F', 'A', 'D', 'G'], dtype=object)"
      ]
     },
     "execution_count": 128,
     "metadata": {},
     "output_type": "execute_result"
    }
   ],
   "source": [
    "X_train['Cabin_single'].unique()"
   ]
  },
  {
   "cell_type": "code",
   "execution_count": 129,
   "id": "aa9700f3",
   "metadata": {},
   "outputs": [
    {
     "name": "stdout",
     "output_type": "stream",
     "text": [
      "0\n"
     ]
    }
   ],
   "source": [
    "test_Cabin_single = [i for i in X_test['Cabin_single'].unique() if i not in X_train['Cabin_single'].unique()]\n",
    "print(len(test_Cabin_single))"
   ]
  },
  {
   "cell_type": "code",
   "execution_count": 130,
   "id": "2f45843f",
   "metadata": {},
   "outputs": [
    {
     "data": {
      "text/plain": [
       "array(['F', 'n', 'D', 'C', 'E', 'A', 'B'], dtype=object)"
      ]
     },
     "execution_count": 130,
     "metadata": {},
     "output_type": "execute_result"
    }
   ],
   "source": [
    "X_test['Cabin_single'].unique()"
   ]
  },
  {
   "cell_type": "markdown",
   "id": "fe68989f",
   "metadata": {},
   "source": [
    "- By collecting only starting letter will reduce the cardinality in the data , because we can reduce number of labels in the data"
   ]
  },
  {
   "cell_type": "markdown",
   "id": "ad4a6400",
   "metadata": {},
   "source": [
    "###  Allocating the numbers for cabin column without single character selecting and with single character selecting "
   ]
  },
  {
   "cell_type": "code",
   "execution_count": 131,
   "id": "55aa6a00",
   "metadata": {
    "scrolled": true
   },
   "outputs": [
    {
     "data": {
      "text/plain": [
       "{nan: 0,\n",
       " 'B45': 1,\n",
       " 'E31': 2,\n",
       " 'B57 B59 B63 B66': 3,\n",
       " 'B36': 4,\n",
       " 'A21': 5,\n",
       " 'C78': 6,\n",
       " 'D34': 7,\n",
       " 'D19': 8,\n",
       " 'A9': 9,\n",
       " 'D15': 10,\n",
       " 'C31': 11,\n",
       " 'C23 C25 C27': 12,\n",
       " 'F G63': 13,\n",
       " 'B61': 14,\n",
       " 'C53': 15,\n",
       " 'D43': 16,\n",
       " 'C130': 17,\n",
       " 'C132': 18,\n",
       " 'C101': 19,\n",
       " 'C55 C57': 20,\n",
       " 'B71': 21,\n",
       " 'C46': 22,\n",
       " 'C116': 23,\n",
       " 'F': 24,\n",
       " 'A29': 25,\n",
       " 'G6': 26,\n",
       " 'C6': 27,\n",
       " 'C28': 28,\n",
       " 'C51': 29,\n",
       " 'E46': 30,\n",
       " 'C54': 31,\n",
       " 'C97': 32,\n",
       " 'D22': 33,\n",
       " 'B10': 34,\n",
       " 'F4': 35,\n",
       " 'E45': 36,\n",
       " 'E52': 37,\n",
       " 'D30': 38,\n",
       " 'B58 B60': 39,\n",
       " 'E34': 40,\n",
       " 'C62 C64': 41,\n",
       " 'A11': 42,\n",
       " 'B11': 43,\n",
       " 'C80': 44,\n",
       " 'F33': 45,\n",
       " 'C85': 46,\n",
       " 'D37': 47,\n",
       " 'C86': 48,\n",
       " 'D21': 49,\n",
       " 'C89': 50,\n",
       " 'F E46': 51,\n",
       " 'A34': 52,\n",
       " 'D': 53,\n",
       " 'B26': 54,\n",
       " 'C22 C26': 55,\n",
       " 'B69': 56,\n",
       " 'C32': 57,\n",
       " 'B78': 58,\n",
       " 'F E57': 59,\n",
       " 'F2': 60,\n",
       " 'A18': 61,\n",
       " 'C106': 62,\n",
       " 'B51 B53 B55': 63,\n",
       " 'D10 D12': 64,\n",
       " 'E60': 65,\n",
       " 'E50': 66,\n",
       " 'E39 E41': 67,\n",
       " 'B52 B54 B56': 68,\n",
       " 'C39': 69,\n",
       " 'B24': 70,\n",
       " 'D28': 71,\n",
       " 'B41': 72,\n",
       " 'C7': 73,\n",
       " 'D40': 74,\n",
       " 'D38': 75,\n",
       " 'C105': 76}"
      ]
     },
     "execution_count": 131,
     "metadata": {},
     "output_type": "execute_result"
    }
   ],
   "source": [
    "cabin_values = {j:i for i , j in enumerate(df_c['Cabin'].unique() , 0)}\n",
    "cabin_values"
   ]
  },
  {
   "cell_type": "code",
   "execution_count": 132,
   "id": "41580e84",
   "metadata": {},
   "outputs": [
    {
     "data": {
      "text/plain": [
       "Index(['Sex', 'Cabin', 'Embarked', 'Cabin_single'], dtype='object')"
      ]
     },
     "execution_count": 132,
     "metadata": {},
     "output_type": "execute_result"
    }
   ],
   "source": [
    "df_c.columns"
   ]
  },
  {
   "cell_type": "code",
   "execution_count": 133,
   "id": "86dca47a",
   "metadata": {},
   "outputs": [],
   "source": [
    "import warnings\n",
    "warnings.filterwarnings(\"ignore\")"
   ]
  },
  {
   "cell_type": "code",
   "execution_count": 135,
   "id": "035848bb",
   "metadata": {},
   "outputs": [],
   "source": [
    "X_train.loc[: , 'cabin_normal_values'] = X_train.loc[: , 'Cabin'].map(cabin_values)\n",
    "X_test.loc[: , 'cabin_normal_values'] = X_test.loc[: , 'Cabin'].map(cabin_values)\n"
   ]
  },
  {
   "cell_type": "code",
   "execution_count": 137,
   "id": "f25538ba",
   "metadata": {},
   "outputs": [
    {
     "data": {
      "text/plain": [
       "Index(['Sex', 'Cabin', 'Embarked', 'Cabin_single', 'cabin_normal_values'], dtype='object')"
      ]
     },
     "execution_count": 137,
     "metadata": {},
     "output_type": "execute_result"
    }
   ],
   "source": [
    "X_test.columns"
   ]
  },
  {
   "cell_type": "code",
   "execution_count": 138,
   "id": "eda5af18",
   "metadata": {},
   "outputs": [
    {
     "data": {
      "text/plain": [
       "Sex                      0\n",
       "Cabin                  254\n",
       "Embarked                 0\n",
       "Cabin_single             0\n",
       "cabin_normal_values      0\n",
       "dtype: int64"
      ]
     },
     "execution_count": 138,
     "metadata": {},
     "output_type": "execute_result"
    }
   ],
   "source": [
    "X_train.isnull().sum()"
   ]
  },
  {
   "cell_type": "code",
   "execution_count": 140,
   "id": "6ccae7d6",
   "metadata": {},
   "outputs": [
    {
     "data": {
      "text/plain": [
       "Sex                     0\n",
       "Cabin                  73\n",
       "Embarked                0\n",
       "Cabin_single            0\n",
       "cabin_normal_values     0\n",
       "dtype: int64"
      ]
     },
     "execution_count": 140,
     "metadata": {},
     "output_type": "execute_result"
    }
   ],
   "source": [
    "X_test.isnull().sum()"
   ]
  },
  {
   "cell_type": "markdown",
   "id": "13fe5982",
   "metadata": {},
   "source": [
    "### Allocating values for cabin single character column"
   ]
  },
  {
   "cell_type": "code",
   "execution_count": 141,
   "id": "f89de869",
   "metadata": {},
   "outputs": [],
   "source": [
    "cabin_single_values = {j:i for i , j in enumerate(df_c['Cabin_single'].unique())}"
   ]
  },
  {
   "cell_type": "code",
   "execution_count": 142,
   "id": "2ef90c4a",
   "metadata": {},
   "outputs": [
    {
     "data": {
      "text/plain": [
       "{'n': 0, 'B': 1, 'E': 2, 'A': 3, 'C': 4, 'D': 5, 'F': 6, 'G': 7}"
      ]
     },
     "execution_count": 142,
     "metadata": {},
     "output_type": "execute_result"
    }
   ],
   "source": [
    "cabin_single_values"
   ]
  },
  {
   "cell_type": "code",
   "execution_count": 143,
   "id": "22097e70",
   "metadata": {},
   "outputs": [],
   "source": [
    "X_train.loc[: , 'Cabin_single_values'] = X_train.loc[: , 'Cabin_single'].map(cabin_single_values)\n",
    "X_test.loc[: , 'Cabin_single_values'] = X_test.loc[: , 'Cabin_single'].map(cabin_single_values)"
   ]
  },
  {
   "cell_type": "code",
   "execution_count": 144,
   "id": "7067fbb8",
   "metadata": {},
   "outputs": [
    {
     "data": {
      "text/plain": [
       "Index(['Sex', 'Cabin', 'Embarked', 'Cabin_single', 'cabin_normal_values',\n",
       "       'Cabin_single_values'],\n",
       "      dtype='object')"
      ]
     },
     "execution_count": 144,
     "metadata": {},
     "output_type": "execute_result"
    }
   ],
   "source": [
    "X_train.columns"
   ]
  },
  {
   "cell_type": "code",
   "execution_count": 146,
   "id": "22ecb3a7",
   "metadata": {},
   "outputs": [
    {
     "data": {
      "text/html": [
       "<div>\n",
       "<style scoped>\n",
       "    .dataframe tbody tr th:only-of-type {\n",
       "        vertical-align: middle;\n",
       "    }\n",
       "\n",
       "    .dataframe tbody tr th {\n",
       "        vertical-align: top;\n",
       "    }\n",
       "\n",
       "    .dataframe thead th {\n",
       "        text-align: right;\n",
       "    }\n",
       "</style>\n",
       "<table border=\"1\" class=\"dataframe\">\n",
       "  <thead>\n",
       "    <tr style=\"text-align: right;\">\n",
       "      <th></th>\n",
       "      <th>Sex</th>\n",
       "      <th>Cabin</th>\n",
       "      <th>Embarked</th>\n",
       "      <th>Cabin_single</th>\n",
       "      <th>cabin_normal_values</th>\n",
       "      <th>Cabin_single_values</th>\n",
       "    </tr>\n",
       "  </thead>\n",
       "  <tbody>\n",
       "    <tr>\n",
       "      <th>71</th>\n",
       "      <td>male</td>\n",
       "      <td>NaN</td>\n",
       "      <td>S</td>\n",
       "      <td>n</td>\n",
       "      <td>0</td>\n",
       "      <td>0</td>\n",
       "    </tr>\n",
       "    <tr>\n",
       "      <th>106</th>\n",
       "      <td>male</td>\n",
       "      <td>NaN</td>\n",
       "      <td>Q</td>\n",
       "      <td>n</td>\n",
       "      <td>0</td>\n",
       "      <td>0</td>\n",
       "    </tr>\n",
       "    <tr>\n",
       "      <th>270</th>\n",
       "      <td>male</td>\n",
       "      <td>C6</td>\n",
       "      <td>C</td>\n",
       "      <td>C</td>\n",
       "      <td>27</td>\n",
       "      <td>4</td>\n",
       "    </tr>\n",
       "    <tr>\n",
       "      <th>348</th>\n",
       "      <td>male</td>\n",
       "      <td>NaN</td>\n",
       "      <td>S</td>\n",
       "      <td>n</td>\n",
       "      <td>0</td>\n",
       "      <td>0</td>\n",
       "    </tr>\n",
       "    <tr>\n",
       "      <th>102</th>\n",
       "      <td>male</td>\n",
       "      <td>NaN</td>\n",
       "      <td>Q</td>\n",
       "      <td>n</td>\n",
       "      <td>0</td>\n",
       "      <td>0</td>\n",
       "    </tr>\n",
       "  </tbody>\n",
       "</table>\n",
       "</div>"
      ],
      "text/plain": [
       "      Sex Cabin Embarked Cabin_single  cabin_normal_values  \\\n",
       "71   male   NaN        S            n                    0   \n",
       "106  male   NaN        Q            n                    0   \n",
       "270  male    C6        C            C                   27   \n",
       "348  male   NaN        S            n                    0   \n",
       "102  male   NaN        Q            n                    0   \n",
       "\n",
       "     Cabin_single_values  \n",
       "71                     0  \n",
       "106                    0  \n",
       "270                    4  \n",
       "348                    0  \n",
       "102                    0  "
      ]
     },
     "execution_count": 146,
     "metadata": {},
     "output_type": "execute_result"
    }
   ],
   "source": [
    "X_train.tail()"
   ]
  },
  {
   "cell_type": "code",
   "execution_count": 147,
   "id": "c44e0a45",
   "metadata": {},
   "outputs": [],
   "source": [
    "X_train['Sex'] = X_train['Sex'].map({\"male\":0 , \"female\":1}).astype(int)\n",
    "X_test['Sex'] = X_test['Sex'].map({\"male\":0 , \"female\":1}).astype(int)\n",
    "\n"
   ]
  },
  {
   "cell_type": "code",
   "execution_count": 148,
   "id": "00ddc19b",
   "metadata": {},
   "outputs": [
    {
     "data": {
      "text/plain": [
       "array(['C', 'S', 'Q'], dtype=object)"
      ]
     },
     "execution_count": 148,
     "metadata": {},
     "output_type": "execute_result"
    }
   ],
   "source": [
    "X_train.Embarked.unique()"
   ]
  },
  {
   "cell_type": "code",
   "execution_count": 149,
   "id": "b0e0af5a",
   "metadata": {},
   "outputs": [],
   "source": [
    "X_train['Embarked'] = X_train['Embarked'].map({\"C\":0 , \"S\":1 , \"Q\":2}).astype(int)\n",
    "X_test['Embarked'] = X_test['Embarked'].map({\"C\":0 , \"S\":1 , \"Q\":2}).astype(int)\n",
    "\n",
    "\n",
    "\n",
    "\n"
   ]
  },
  {
   "cell_type": "code",
   "execution_count": 150,
   "id": "809d2bd2",
   "metadata": {},
   "outputs": [
    {
     "data": {
      "text/html": [
       "<div>\n",
       "<style scoped>\n",
       "    .dataframe tbody tr th:only-of-type {\n",
       "        vertical-align: middle;\n",
       "    }\n",
       "\n",
       "    .dataframe tbody tr th {\n",
       "        vertical-align: top;\n",
       "    }\n",
       "\n",
       "    .dataframe thead th {\n",
       "        text-align: right;\n",
       "    }\n",
       "</style>\n",
       "<table border=\"1\" class=\"dataframe\">\n",
       "  <thead>\n",
       "    <tr style=\"text-align: right;\">\n",
       "      <th></th>\n",
       "      <th>Sex</th>\n",
       "      <th>Cabin</th>\n",
       "      <th>Embarked</th>\n",
       "      <th>Cabin_single</th>\n",
       "      <th>cabin_normal_values</th>\n",
       "      <th>Cabin_single_values</th>\n",
       "    </tr>\n",
       "  </thead>\n",
       "  <tbody>\n",
       "    <tr>\n",
       "      <th>327</th>\n",
       "      <td>0</td>\n",
       "      <td>NaN</td>\n",
       "      <td>0</td>\n",
       "      <td>n</td>\n",
       "      <td>0</td>\n",
       "      <td>0</td>\n",
       "    </tr>\n",
       "    <tr>\n",
       "      <th>5</th>\n",
       "      <td>0</td>\n",
       "      <td>NaN</td>\n",
       "      <td>1</td>\n",
       "      <td>n</td>\n",
       "      <td>0</td>\n",
       "      <td>0</td>\n",
       "    </tr>\n",
       "    <tr>\n",
       "      <th>45</th>\n",
       "      <td>0</td>\n",
       "      <td>NaN</td>\n",
       "      <td>1</td>\n",
       "      <td>n</td>\n",
       "      <td>0</td>\n",
       "      <td>0</td>\n",
       "    </tr>\n",
       "    <tr>\n",
       "      <th>140</th>\n",
       "      <td>1</td>\n",
       "      <td>NaN</td>\n",
       "      <td>1</td>\n",
       "      <td>n</td>\n",
       "      <td>0</td>\n",
       "      <td>0</td>\n",
       "    </tr>\n",
       "    <tr>\n",
       "      <th>145</th>\n",
       "      <td>0</td>\n",
       "      <td>NaN</td>\n",
       "      <td>1</td>\n",
       "      <td>n</td>\n",
       "      <td>0</td>\n",
       "      <td>0</td>\n",
       "    </tr>\n",
       "  </tbody>\n",
       "</table>\n",
       "</div>"
      ],
      "text/plain": [
       "     Sex Cabin  Embarked Cabin_single  cabin_normal_values  \\\n",
       "327    0   NaN         0            n                    0   \n",
       "5      0   NaN         1            n                    0   \n",
       "45     0   NaN         1            n                    0   \n",
       "140    1   NaN         1            n                    0   \n",
       "145    0   NaN         1            n                    0   \n",
       "\n",
       "     Cabin_single_values  \n",
       "327                    0  \n",
       "5                      0  \n",
       "45                     0  \n",
       "140                    0  \n",
       "145                    0  "
      ]
     },
     "execution_count": 150,
     "metadata": {},
     "output_type": "execute_result"
    }
   ],
   "source": [
    "X_train.head()"
   ]
  },
  {
   "cell_type": "code",
   "execution_count": 151,
   "id": "3b50cdc8",
   "metadata": {},
   "outputs": [
    {
     "data": {
      "text/plain": [
       "Sex                      0\n",
       "Cabin                  254\n",
       "Embarked                 0\n",
       "Cabin_single             0\n",
       "cabin_normal_values      0\n",
       "Cabin_single_values      0\n",
       "dtype: int64"
      ]
     },
     "execution_count": 151,
     "metadata": {},
     "output_type": "execute_result"
    }
   ],
   "source": [
    "X_train.isnull().sum()"
   ]
  },
  {
   "cell_type": "code",
   "execution_count": 152,
   "id": "c982291a",
   "metadata": {},
   "outputs": [
    {
     "data": {
      "text/plain": [
       "327    0\n",
       "5      0\n",
       "45     0\n",
       "140    1\n",
       "145    0\n",
       "Name: Survived, dtype: int64"
      ]
     },
     "execution_count": 152,
     "metadata": {},
     "output_type": "execute_result"
    }
   ],
   "source": [
    "y_train.head()"
   ]
  },
  {
   "cell_type": "code",
   "execution_count": 159,
   "id": "a8ecaa57",
   "metadata": {},
   "outputs": [],
   "source": [
    "from sklearn.ensemble import RandomForestClassifier"
   ]
  },
  {
   "cell_type": "code",
   "execution_count": 160,
   "id": "7922ae28",
   "metadata": {},
   "outputs": [],
   "source": [
    "reg = RandomForestClassifier(n_estimators=200, random_state=39)"
   ]
  },
  {
   "cell_type": "code",
   "execution_count": 161,
   "id": "61f6e197",
   "metadata": {},
   "outputs": [
    {
     "data": {
      "text/plain": [
       "RandomForestClassifier(n_estimators=200, random_state=39)"
      ]
     },
     "execution_count": 161,
     "metadata": {},
     "output_type": "execute_result"
    }
   ],
   "source": [
    "reg.fit(X_train[[\"Sex\",\"Embarked\",\"cabin_normal_values\"]] , y_train)"
   ]
  },
  {
   "cell_type": "code",
   "execution_count": 162,
   "id": "7defd855",
   "metadata": {},
   "outputs": [
    {
     "data": {
      "text/plain": [
       "1.0"
      ]
     },
     "execution_count": 162,
     "metadata": {},
     "output_type": "execute_result"
    }
   ],
   "source": [
    "reg.score(X_train[[\"Sex\",\"Embarked\",\"cabin_normal_values\"]] , y_train)"
   ]
  },
  {
   "cell_type": "markdown",
   "id": "ab00a5bb",
   "metadata": {},
   "source": [
    "- Running the instance makes the probability predictions and then prints the input data instance and the probability of each instance belonging to the first and second classes (0 and 1)."
   ]
  },
  {
   "cell_type": "code",
   "execution_count": 163,
   "id": "e3af5340",
   "metadata": {},
   "outputs": [],
   "source": [
    "y_train_pred = reg.predict_proba(X_train[[\"Sex\",\"Embarked\",\"cabin_normal_values\"]])\n"
   ]
  },
  {
   "cell_type": "code",
   "execution_count": 165,
   "id": "1e8b9175",
   "metadata": {
    "scrolled": true
   },
   "outputs": [
    {
     "data": {
      "text/plain": [
       "array([[1., 0.],\n",
       "       [1., 0.],\n",
       "       [1., 0.],\n",
       "       [0., 1.],\n",
       "       [1., 0.],\n",
       "       [1., 0.],\n",
       "       [1., 0.],\n",
       "       [1., 0.],\n",
       "       [1., 0.],\n",
       "       [1., 0.]])"
      ]
     },
     "execution_count": 165,
     "metadata": {},
     "output_type": "execute_result"
    }
   ],
   "source": [
    "y_train_pred[:10]"
   ]
  },
  {
   "cell_type": "code",
   "execution_count": 166,
   "id": "f2b8237f",
   "metadata": {},
   "outputs": [],
   "source": [
    "y_test_pred = reg.predict_proba(X_test[[\"Sex\",\"Embarked\",\"cabin_normal_values\"]])"
   ]
  },
  {
   "cell_type": "code",
   "execution_count": 167,
   "id": "992b7c91",
   "metadata": {},
   "outputs": [
    {
     "data": {
      "text/plain": [
       "array([[0.945, 0.055],\n",
       "       [0.   , 1.   ],\n",
       "       [1.   , 0.   ],\n",
       "       [1.   , 0.   ],\n",
       "       [0.   , 1.   ],\n",
       "       [1.   , 0.   ],\n",
       "       [0.   , 1.   ],\n",
       "       [1.   , 0.   ],\n",
       "       [0.   , 1.   ],\n",
       "       [1.   , 0.   ]])"
      ]
     },
     "execution_count": 167,
     "metadata": {},
     "output_type": "execute_result"
    }
   ],
   "source": [
    "y_test_pred[:10]"
   ]
  },
  {
   "cell_type": "code",
   "execution_count": 168,
   "id": "14da4003",
   "metadata": {},
   "outputs": [],
   "source": [
    "from sklearn.metrics import roc_auc_score"
   ]
  },
  {
   "cell_type": "code",
   "execution_count": 171,
   "id": "bb3ca49c",
   "metadata": {},
   "outputs": [
    {
     "name": "stdout",
     "output_type": "stream",
     "text": [
      "train set  = 1.0 \n",
      "test set  = 1.0 \n"
     ]
    }
   ],
   "source": [
    "print(\"train set  = {} \".format(roc_auc_score(y_train , y_train_pred[: , 1])))\n",
    "print(\"test set  = {} \".format(roc_auc_score(y_test , y_test_pred[: , 1])))\n",
    "\n"
   ]
  },
  {
   "cell_type": "markdown",
   "id": "acc1e037",
   "metadata": {},
   "source": [
    "## cabin single values "
   ]
  },
  {
   "cell_type": "code",
   "execution_count": 180,
   "id": "df39dba7",
   "metadata": {},
   "outputs": [],
   "source": [
    "reg = RandomForestClassifier(n_estimators=200, random_state=39)"
   ]
  },
  {
   "cell_type": "code",
   "execution_count": 181,
   "id": "33fac8a8",
   "metadata": {},
   "outputs": [
    {
     "data": {
      "text/plain": [
       "RandomForestClassifier(n_estimators=200, random_state=39)"
      ]
     },
     "execution_count": 181,
     "metadata": {},
     "output_type": "execute_result"
    }
   ],
   "source": [
    "reg.fit(X_train[[\"Sex\",\"Embarked\",\"Cabin_single_values\"]] , y_train)"
   ]
  },
  {
   "cell_type": "code",
   "execution_count": 182,
   "id": "50db743e",
   "metadata": {},
   "outputs": [
    {
     "data": {
      "text/plain": [
       "1.0"
      ]
     },
     "execution_count": 182,
     "metadata": {},
     "output_type": "execute_result"
    }
   ],
   "source": [
    "reg.score(X_train[[\"Sex\",\"Embarked\",\"Cabin_single_values\"]] , y_train)"
   ]
  },
  {
   "cell_type": "markdown",
   "id": "fec49cf8",
   "metadata": {},
   "source": [
    "- Running the instance makes the probability predictions and then prints the input data instance and the probability of each instance belonging to the first and second classes (0 and 1)."
   ]
  },
  {
   "cell_type": "code",
   "execution_count": 183,
   "id": "a42f8f1a",
   "metadata": {},
   "outputs": [],
   "source": [
    "y_train_pred = reg.predict_proba(X_train[[\"Sex\",\"Embarked\",\"Cabin_single_values\"]])\n"
   ]
  },
  {
   "cell_type": "code",
   "execution_count": 184,
   "id": "d52f56cd",
   "metadata": {
    "scrolled": true
   },
   "outputs": [
    {
     "data": {
      "text/plain": [
       "array([[1., 0.],\n",
       "       [1., 0.],\n",
       "       [1., 0.],\n",
       "       [0., 1.],\n",
       "       [1., 0.],\n",
       "       [1., 0.],\n",
       "       [1., 0.],\n",
       "       [1., 0.],\n",
       "       [1., 0.],\n",
       "       [1., 0.]])"
      ]
     },
     "execution_count": 184,
     "metadata": {},
     "output_type": "execute_result"
    }
   ],
   "source": [
    "y_train_pred[:10]"
   ]
  },
  {
   "cell_type": "code",
   "execution_count": 185,
   "id": "c170e2e5",
   "metadata": {},
   "outputs": [],
   "source": [
    "y_test_pred = reg.predict_proba(X_test[[\"Sex\",\"Embarked\",\"Cabin_single_values\"]])"
   ]
  },
  {
   "cell_type": "code",
   "execution_count": 186,
   "id": "29717284",
   "metadata": {},
   "outputs": [
    {
     "data": {
      "text/plain": [
       "array([[0.985, 0.015],\n",
       "       [0.   , 1.   ],\n",
       "       [1.   , 0.   ],\n",
       "       [1.   , 0.   ],\n",
       "       [0.   , 1.   ],\n",
       "       [1.   , 0.   ],\n",
       "       [0.   , 1.   ],\n",
       "       [1.   , 0.   ],\n",
       "       [0.   , 1.   ],\n",
       "       [1.   , 0.   ]])"
      ]
     },
     "execution_count": 186,
     "metadata": {},
     "output_type": "execute_result"
    }
   ],
   "source": [
    "y_test_pred[:10]"
   ]
  },
  {
   "cell_type": "code",
   "execution_count": 187,
   "id": "3666a619",
   "metadata": {},
   "outputs": [],
   "source": [
    "from sklearn.metrics import roc_auc_score"
   ]
  },
  {
   "cell_type": "code",
   "execution_count": 188,
   "id": "056b4681",
   "metadata": {},
   "outputs": [
    {
     "name": "stdout",
     "output_type": "stream",
     "text": [
      "train set  = 1.0 \n",
      "test set  = 1.0 \n"
     ]
    }
   ],
   "source": [
    "print(\"train set  = {} \".format(roc_auc_score(y_train , y_train_pred[: , 1])))\n",
    "print(\"test set  = {} \".format(roc_auc_score(y_test , y_test_pred[: , 1])))\n",
    "\n"
   ]
  },
  {
   "cell_type": "code",
   "execution_count": 172,
   "id": "a75e047b",
   "metadata": {},
   "outputs": [],
   "source": [
    "from sklearn.linear_model import LogisticRegression"
   ]
  },
  {
   "cell_type": "code",
   "execution_count": 173,
   "id": "9a66c578",
   "metadata": {},
   "outputs": [],
   "source": [
    "reg = LogisticRegression()"
   ]
  },
  {
   "cell_type": "code",
   "execution_count": 176,
   "id": "1e7f8c12",
   "metadata": {},
   "outputs": [
    {
     "data": {
      "text/plain": [
       "LogisticRegression()"
      ]
     },
     "execution_count": 176,
     "metadata": {},
     "output_type": "execute_result"
    }
   ],
   "source": [
    "reg.fit(X_train[[\"Sex\",\"Embarked\",\"Cabin_single_values\"]] , y_train)"
   ]
  },
  {
   "cell_type": "code",
   "execution_count": 177,
   "id": "dba8ae1e",
   "metadata": {},
   "outputs": [],
   "source": [
    "y_train_pred = reg.predict_proba(X_train[[\"Sex\",\"Embarked\",\"Cabin_single_values\"]])\n",
    "y_test_pred = reg.predict_proba(X_test[[\"Sex\",\"Embarked\",\"Cabin_single_values\"]])"
   ]
  },
  {
   "cell_type": "code",
   "execution_count": 178,
   "id": "6a7f9fdc",
   "metadata": {},
   "outputs": [
    {
     "data": {
      "text/plain": [
       "array([[0.9491774 , 0.0508226 ],\n",
       "       [0.05875315, 0.94124685],\n",
       "       [0.96723047, 0.03276953],\n",
       "       [0.97140692, 0.02859308],\n",
       "       [0.05875315, 0.94124685],\n",
       "       [0.97140692, 0.02859308],\n",
       "       [0.05875315, 0.94124685],\n",
       "       [0.97140692, 0.02859308],\n",
       "       [0.05875315, 0.94124685],\n",
       "       [0.97140692, 0.02859308]])"
      ]
     },
     "execution_count": 178,
     "metadata": {},
     "output_type": "execute_result"
    }
   ],
   "source": [
    "y_test_pred[:10]"
   ]
  },
  {
   "cell_type": "code",
   "execution_count": 179,
   "id": "84d558b4",
   "metadata": {},
   "outputs": [
    {
     "name": "stdout",
     "output_type": "stream",
     "text": [
      "train set logistic  = 1.0 \n",
      "test set logistic   = 0.9999999999999999 \n"
     ]
    }
   ],
   "source": [
    "print(\"train set logistic  = {} \".format(roc_auc_score(y_train , y_train_pred[: , 1])))\n",
    "print(\"test set logistic   = {} \".format(roc_auc_score(y_test , y_test_pred[: , 1])))\n",
    "\n"
   ]
  },
  {
   "cell_type": "code",
   "execution_count": null,
   "id": "152771af",
   "metadata": {},
   "outputs": [],
   "source": []
  }
 ],
 "metadata": {
  "kernelspec": {
   "display_name": "Python 3",
   "language": "python",
   "name": "python3"
  },
  "language_info": {
   "codemirror_mode": {
    "name": "ipython",
    "version": 3
   },
   "file_extension": ".py",
   "mimetype": "text/x-python",
   "name": "python",
   "nbconvert_exporter": "python",
   "pygments_lexer": "ipython3",
   "version": "3.9.4"
  }
 },
 "nbformat": 4,
 "nbformat_minor": 5
}

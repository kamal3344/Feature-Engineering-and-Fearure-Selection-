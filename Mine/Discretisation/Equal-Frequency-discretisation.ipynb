{
 "cells": [
  {
   "cell_type": "code",
   "execution_count": 104,
   "id": "68ec13bf",
   "metadata": {},
   "outputs": [],
   "source": [
    "import numpy as np\n",
    "import pandas as pd \n",
    "import matplotlib.pyplot as plt \n",
    "import seaborn as sns "
   ]
  },
  {
   "cell_type": "code",
   "execution_count": 105,
   "id": "a8533b2d",
   "metadata": {},
   "outputs": [],
   "source": [
    "df = pd.read_csv(\"E:\\\\Feature engineering\\\\Datasets\\\\titanic.csv\")"
   ]
  },
  {
   "cell_type": "code",
   "execution_count": 106,
   "id": "385a1e1c",
   "metadata": {},
   "outputs": [
    {
     "data": {
      "text/html": [
       "<div>\n",
       "<style scoped>\n",
       "    .dataframe tbody tr th:only-of-type {\n",
       "        vertical-align: middle;\n",
       "    }\n",
       "\n",
       "    .dataframe tbody tr th {\n",
       "        vertical-align: top;\n",
       "    }\n",
       "\n",
       "    .dataframe thead th {\n",
       "        text-align: right;\n",
       "    }\n",
       "</style>\n",
       "<table border=\"1\" class=\"dataframe\">\n",
       "  <thead>\n",
       "    <tr style=\"text-align: right;\">\n",
       "      <th></th>\n",
       "      <th>PassengerId</th>\n",
       "      <th>Survived</th>\n",
       "      <th>Pclass</th>\n",
       "      <th>Name</th>\n",
       "      <th>Sex</th>\n",
       "      <th>Age</th>\n",
       "      <th>SibSp</th>\n",
       "      <th>Parch</th>\n",
       "      <th>Ticket</th>\n",
       "      <th>Fare</th>\n",
       "      <th>Cabin</th>\n",
       "      <th>Embarked</th>\n",
       "    </tr>\n",
       "  </thead>\n",
       "  <tbody>\n",
       "    <tr>\n",
       "      <th>0</th>\n",
       "      <td>892</td>\n",
       "      <td>0</td>\n",
       "      <td>3</td>\n",
       "      <td>Kelly, Mr. James</td>\n",
       "      <td>male</td>\n",
       "      <td>34.5</td>\n",
       "      <td>0</td>\n",
       "      <td>0</td>\n",
       "      <td>330911</td>\n",
       "      <td>7.8292</td>\n",
       "      <td>NaN</td>\n",
       "      <td>Q</td>\n",
       "    </tr>\n",
       "    <tr>\n",
       "      <th>1</th>\n",
       "      <td>893</td>\n",
       "      <td>1</td>\n",
       "      <td>3</td>\n",
       "      <td>Wilkes, Mrs. James (Ellen Needs)</td>\n",
       "      <td>female</td>\n",
       "      <td>47.0</td>\n",
       "      <td>1</td>\n",
       "      <td>0</td>\n",
       "      <td>363272</td>\n",
       "      <td>7.0000</td>\n",
       "      <td>NaN</td>\n",
       "      <td>S</td>\n",
       "    </tr>\n",
       "    <tr>\n",
       "      <th>2</th>\n",
       "      <td>894</td>\n",
       "      <td>0</td>\n",
       "      <td>2</td>\n",
       "      <td>Myles, Mr. Thomas Francis</td>\n",
       "      <td>male</td>\n",
       "      <td>62.0</td>\n",
       "      <td>0</td>\n",
       "      <td>0</td>\n",
       "      <td>240276</td>\n",
       "      <td>9.6875</td>\n",
       "      <td>NaN</td>\n",
       "      <td>Q</td>\n",
       "    </tr>\n",
       "    <tr>\n",
       "      <th>3</th>\n",
       "      <td>895</td>\n",
       "      <td>0</td>\n",
       "      <td>3</td>\n",
       "      <td>Wirz, Mr. Albert</td>\n",
       "      <td>male</td>\n",
       "      <td>27.0</td>\n",
       "      <td>0</td>\n",
       "      <td>0</td>\n",
       "      <td>315154</td>\n",
       "      <td>8.6625</td>\n",
       "      <td>NaN</td>\n",
       "      <td>S</td>\n",
       "    </tr>\n",
       "    <tr>\n",
       "      <th>4</th>\n",
       "      <td>896</td>\n",
       "      <td>1</td>\n",
       "      <td>3</td>\n",
       "      <td>Hirvonen, Mrs. Alexander (Helga E Lindqvist)</td>\n",
       "      <td>female</td>\n",
       "      <td>22.0</td>\n",
       "      <td>1</td>\n",
       "      <td>1</td>\n",
       "      <td>3101298</td>\n",
       "      <td>12.2875</td>\n",
       "      <td>NaN</td>\n",
       "      <td>S</td>\n",
       "    </tr>\n",
       "  </tbody>\n",
       "</table>\n",
       "</div>"
      ],
      "text/plain": [
       "   PassengerId  Survived  Pclass  \\\n",
       "0          892         0       3   \n",
       "1          893         1       3   \n",
       "2          894         0       2   \n",
       "3          895         0       3   \n",
       "4          896         1       3   \n",
       "\n",
       "                                           Name     Sex   Age  SibSp  Parch  \\\n",
       "0                              Kelly, Mr. James    male  34.5      0      0   \n",
       "1              Wilkes, Mrs. James (Ellen Needs)  female  47.0      1      0   \n",
       "2                     Myles, Mr. Thomas Francis    male  62.0      0      0   \n",
       "3                              Wirz, Mr. Albert    male  27.0      0      0   \n",
       "4  Hirvonen, Mrs. Alexander (Helga E Lindqvist)  female  22.0      1      1   \n",
       "\n",
       "    Ticket     Fare Cabin Embarked  \n",
       "0   330911   7.8292   NaN        Q  \n",
       "1   363272   7.0000   NaN        S  \n",
       "2   240276   9.6875   NaN        Q  \n",
       "3   315154   8.6625   NaN        S  \n",
       "4  3101298  12.2875   NaN        S  "
      ]
     },
     "execution_count": 106,
     "metadata": {},
     "output_type": "execute_result"
    }
   ],
   "source": [
    "df.head()\n"
   ]
  },
  {
   "cell_type": "code",
   "execution_count": 107,
   "id": "b88d1039",
   "metadata": {},
   "outputs": [],
   "source": [
    "df = df[['Age','Fare','Survived']]"
   ]
  },
  {
   "cell_type": "code",
   "execution_count": 108,
   "id": "b65db7c6",
   "metadata": {},
   "outputs": [
    {
     "data": {
      "text/plain": [
       "Age         86\n",
       "Fare         1\n",
       "Survived     0\n",
       "dtype: int64"
      ]
     },
     "execution_count": 108,
     "metadata": {},
     "output_type": "execute_result"
    }
   ],
   "source": [
    "df.isnull().sum()"
   ]
  },
  {
   "cell_type": "code",
   "execution_count": 109,
   "id": "126dca31",
   "metadata": {},
   "outputs": [],
   "source": [
    "## Random sample imputation can be done only if the data is following MCAR concepts "
   ]
  },
  {
   "cell_type": "code",
   "execution_count": 110,
   "id": "fea15f91",
   "metadata": {},
   "outputs": [],
   "source": [
    "s = df['Age'].dropna().sample(df['Age'].isnull().sum() , random_state = 42)"
   ]
  },
  {
   "cell_type": "code",
   "execution_count": 111,
   "id": "c085f411",
   "metadata": {},
   "outputs": [
    {
     "data": {
      "text/plain": [
       "Int64Index([ 27, 398,  89, 241,  68, 207, 354, 224, 262, 245,  92,   9, 399,\n",
       "            157, 345, 165, 142, 182,  94, 250, 137, 172, 372, 247,   5, 138,\n",
       "            330, 403, 204, 402, 209, 378,  74, 103, 295, 232, 228, 363,  55,\n",
       "            147,  38,  50, 291, 226, 141,  87, 222,  53, 126, 392, 117, 293,\n",
       "            254,  17, 136, 316,   7,  66, 184, 284, 374, 370, 328,   3,  95,\n",
       "            309,  71, 283,  96, 333,  18,  26, 318, 405, 337, 221, 100, 139,\n",
       "            179, 307, 144, 176, 220, 112, 393, 397],\n",
       "           dtype='int64')"
      ]
     },
     "execution_count": 111,
     "metadata": {},
     "output_type": "execute_result"
    }
   ],
   "source": [
    "s.index"
   ]
  },
  {
   "cell_type": "code",
   "execution_count": 112,
   "id": "dd05ed94",
   "metadata": {},
   "outputs": [],
   "source": [
    "## we need to replace the values "
   ]
  },
  {
   "cell_type": "code",
   "execution_count": 113,
   "id": "2dc4d209",
   "metadata": {},
   "outputs": [
    {
     "data": {
      "text/plain": [
       "Int64Index([ 27, 398,  89, 241,  68, 207, 354, 224, 262, 245,  92,   9, 399,\n",
       "            157, 345, 165, 142, 182,  94, 250, 137, 172, 372, 247,   5, 138,\n",
       "            330, 403, 204, 402, 209, 378,  74, 103, 295, 232, 228, 363,  55,\n",
       "            147,  38,  50, 291, 226, 141,  87, 222,  53, 126, 392, 117, 293,\n",
       "            254,  17, 136, 316,   7,  66, 184, 284, 374, 370, 328,   3,  95,\n",
       "            309,  71, 283,  96, 333,  18,  26, 318, 405, 337, 221, 100, 139,\n",
       "            179, 307, 144, 176, 220, 112, 393, 397],\n",
       "           dtype='int64')"
      ]
     },
     "execution_count": 113,
     "metadata": {},
     "output_type": "execute_result"
    }
   ],
   "source": [
    "s.index"
   ]
  },
  {
   "cell_type": "code",
   "execution_count": 114,
   "id": "d1abdcf9",
   "metadata": {},
   "outputs": [
    {
     "data": {
      "text/plain": [
       "nan"
      ]
     },
     "execution_count": 114,
     "metadata": {},
     "output_type": "execute_result"
    }
   ],
   "source": [
    "df['Age'][10]"
   ]
  },
  {
   "cell_type": "code",
   "execution_count": 115,
   "id": "ad003a4d",
   "metadata": {},
   "outputs": [
    {
     "data": {
      "text/plain": [
       "Int64Index([ 10,  22,  29,  33,  36,  39,  41,  47,  54,  58,  65,  76,  83,\n",
       "             84,  85,  88,  91,  93, 102, 107, 108, 111, 116, 121, 124, 127,\n",
       "            132, 133, 146, 148, 151, 160, 163, 168, 170, 173, 183, 188, 191,\n",
       "            199, 200, 205, 211, 216, 219, 225, 227, 233, 243, 244, 249, 255,\n",
       "            256, 265, 266, 267, 268, 271, 273, 274, 282, 286, 288, 289, 290,\n",
       "            292, 297, 301, 304, 312, 332, 339, 342, 344, 357, 358, 365, 366,\n",
       "            380, 382, 384, 408, 410, 413, 416, 417],\n",
       "           dtype='int64')"
      ]
     },
     "execution_count": 115,
     "metadata": {},
     "output_type": "execute_result"
    }
   ],
   "source": [
    "df[df['Age'].isnull()].index"
   ]
  },
  {
   "cell_type": "code",
   "execution_count": 116,
   "id": "8198e79b",
   "metadata": {},
   "outputs": [
    {
     "data": {
      "text/html": [
       "<div>\n",
       "<style scoped>\n",
       "    .dataframe tbody tr th:only-of-type {\n",
       "        vertical-align: middle;\n",
       "    }\n",
       "\n",
       "    .dataframe tbody tr th {\n",
       "        vertical-align: top;\n",
       "    }\n",
       "\n",
       "    .dataframe thead th {\n",
       "        text-align: right;\n",
       "    }\n",
       "</style>\n",
       "<table border=\"1\" class=\"dataframe\">\n",
       "  <thead>\n",
       "    <tr style=\"text-align: right;\">\n",
       "      <th></th>\n",
       "      <th>Age</th>\n",
       "      <th>Fare</th>\n",
       "      <th>Survived</th>\n",
       "    </tr>\n",
       "  </thead>\n",
       "  <tbody>\n",
       "    <tr>\n",
       "      <th>10</th>\n",
       "      <td>NaN</td>\n",
       "      <td>7.8958</td>\n",
       "      <td>0</td>\n",
       "    </tr>\n",
       "  </tbody>\n",
       "</table>\n",
       "</div>"
      ],
      "text/plain": [
       "    Age    Fare  Survived\n",
       "10  NaN  7.8958         0"
      ]
     },
     "execution_count": 116,
     "metadata": {},
     "output_type": "execute_result"
    }
   ],
   "source": [
    "x = df[df['Age'].isnull()].head(1)\n",
    "x"
   ]
  },
  {
   "cell_type": "code",
   "execution_count": 117,
   "id": "45c83aaa",
   "metadata": {},
   "outputs": [],
   "source": [
    "def random(df , variable):\n",
    "    df[variable+\"_replaced\"] = df[variable].copy()\n",
    "    s = df['Age'].dropna().sample(df['Age'].isnull().sum() , random_state = 42)\n",
    "    s.index = df[df['Age'].isnull()].index\n",
    "    df.loc[df['Age'].isnull() , 'Age_replaced'] = s\n",
    "    \n",
    "    \n",
    "    "
   ]
  },
  {
   "cell_type": "code",
   "execution_count": 118,
   "id": "da75d798",
   "metadata": {},
   "outputs": [],
   "source": [
    "random(df,'Age')"
   ]
  },
  {
   "cell_type": "code",
   "execution_count": 119,
   "id": "9bd0305f",
   "metadata": {},
   "outputs": [
    {
     "data": {
      "text/plain": [
       "Age             86\n",
       "Fare             1\n",
       "Survived         0\n",
       "Age_replaced     0\n",
       "dtype: int64"
      ]
     },
     "execution_count": 119,
     "metadata": {},
     "output_type": "execute_result"
    }
   ],
   "source": [
    "df.isnull().sum()"
   ]
  },
  {
   "cell_type": "code",
   "execution_count": 120,
   "id": "e9c9796e",
   "metadata": {},
   "outputs": [
    {
     "data": {
      "text/plain": [
       "<AxesSubplot:>"
      ]
     },
     "execution_count": 120,
     "metadata": {},
     "output_type": "execute_result"
    },
    {
     "data": {
      "image/png": "[encoded data removed]",
      "text/plain": [
       "<Figure size 432x288 with 1 Axes>"
      ]
     },
     "metadata": {
      "needs_background": "light"
     },
     "output_type": "display_data"
    }
   ],
   "source": [
    "df['Age_replaced'].hist(bins = 30)"
   ]
  },
  {
   "cell_type": "markdown",
   "id": "90ff2421",
   "metadata": {},
   "source": [
    "### Equal frequency discretisation "
   ]
  },
  {
   "cell_type": "code",
   "execution_count": 72,
   "id": "a1e15547",
   "metadata": {},
   "outputs": [],
   "source": [
    "df['Age_modified'] , intervals = pd.qcut(df['Age_replaced'] , 10 ,labels=None,\n",
    "    retbins=True,precision = 3)"
   ]
  },
  {
   "cell_type": "code",
   "execution_count": 46,
   "id": "738fdaee",
   "metadata": {},
   "outputs": [
    {
     "data": {
      "text/plain": [
       "0      (30.0, 36.0]\n",
       "1      (42.0, 50.0]\n",
       "2      (50.0, 76.0]\n",
       "3      (24.0, 27.0]\n",
       "4      (20.0, 22.0]\n",
       "           ...     \n",
       "413    (30.0, 36.0]\n",
       "414    (36.0, 42.0]\n",
       "415    (36.0, 42.0]\n",
       "416    (42.0, 50.0]\n",
       "417    (42.0, 50.0]\n",
       "Name: Age_modified, Length: 418, dtype: category\n",
       "Categories (10, interval[float64]): [(0.169, 15.7] < (15.7, 20.0] < (20.0, 22.0] < (22.0, 24.0] ... (30.0, 36.0] < (36.0, 42.0] < (42.0, 50.0] < (50.0, 76.0]]"
      ]
     },
     "execution_count": 46,
     "metadata": {},
     "output_type": "execute_result"
    }
   ],
   "source": [
    "df['Age_modified']"
   ]
  },
  {
   "cell_type": "code",
   "execution_count": 47,
   "id": "4147fbd3",
   "metadata": {},
   "outputs": [
    {
     "data": {
      "text/html": [
       "<div>\n",
       "<style scoped>\n",
       "    .dataframe tbody tr th:only-of-type {\n",
       "        vertical-align: middle;\n",
       "    }\n",
       "\n",
       "    .dataframe tbody tr th {\n",
       "        vertical-align: top;\n",
       "    }\n",
       "\n",
       "    .dataframe thead th {\n",
       "        text-align: right;\n",
       "    }\n",
       "</style>\n",
       "<table border=\"1\" class=\"dataframe\">\n",
       "  <thead>\n",
       "    <tr style=\"text-align: right;\">\n",
       "      <th></th>\n",
       "      <th>Age</th>\n",
       "      <th>Fare</th>\n",
       "      <th>Survived</th>\n",
       "      <th>Age_replaced</th>\n",
       "      <th>Age_modified</th>\n",
       "    </tr>\n",
       "  </thead>\n",
       "  <tbody>\n",
       "    <tr>\n",
       "      <th>0</th>\n",
       "      <td>34.5</td>\n",
       "      <td>7.8292</td>\n",
       "      <td>0</td>\n",
       "      <td>34.5</td>\n",
       "      <td>(30.0, 36.0]</td>\n",
       "    </tr>\n",
       "    <tr>\n",
       "      <th>1</th>\n",
       "      <td>47.0</td>\n",
       "      <td>7.0000</td>\n",
       "      <td>1</td>\n",
       "      <td>47.0</td>\n",
       "      <td>(42.0, 50.0]</td>\n",
       "    </tr>\n",
       "    <tr>\n",
       "      <th>2</th>\n",
       "      <td>62.0</td>\n",
       "      <td>9.6875</td>\n",
       "      <td>0</td>\n",
       "      <td>62.0</td>\n",
       "      <td>(50.0, 76.0]</td>\n",
       "    </tr>\n",
       "    <tr>\n",
       "      <th>3</th>\n",
       "      <td>27.0</td>\n",
       "      <td>8.6625</td>\n",
       "      <td>0</td>\n",
       "      <td>27.0</td>\n",
       "      <td>(24.0, 27.0]</td>\n",
       "    </tr>\n",
       "    <tr>\n",
       "      <th>4</th>\n",
       "      <td>22.0</td>\n",
       "      <td>12.2875</td>\n",
       "      <td>1</td>\n",
       "      <td>22.0</td>\n",
       "      <td>(20.0, 22.0]</td>\n",
       "    </tr>\n",
       "  </tbody>\n",
       "</table>\n",
       "</div>"
      ],
      "text/plain": [
       "    Age     Fare  Survived  Age_replaced  Age_modified\n",
       "0  34.5   7.8292         0          34.5  (30.0, 36.0]\n",
       "1  47.0   7.0000         1          47.0  (42.0, 50.0]\n",
       "2  62.0   9.6875         0          62.0  (50.0, 76.0]\n",
       "3  27.0   8.6625         0          27.0  (24.0, 27.0]\n",
       "4  22.0  12.2875         1          22.0  (20.0, 22.0]"
      ]
     },
     "execution_count": 47,
     "metadata": {},
     "output_type": "execute_result"
    }
   ],
   "source": [
    "df.head()"
   ]
  },
  {
   "cell_type": "code",
   "execution_count": 48,
   "id": "38540055",
   "metadata": {
    "scrolled": true
   },
   "outputs": [
    {
     "data": {
      "text/plain": [
       "array([ 0.17, 15.7 , 20.  , 22.  , 24.  , 27.  , 30.  , 36.  , 42.  ,\n",
       "       50.  , 76.  ])"
      ]
     },
     "execution_count": 48,
     "metadata": {},
     "output_type": "execute_result"
    }
   ],
   "source": [
    "intervals"
   ]
  },
  {
   "cell_type": "code",
   "execution_count": 49,
   "id": "03ad6de5",
   "metadata": {},
   "outputs": [
    {
     "data": {
      "text/plain": [
       "(24.0, 27.0]     53\n",
       "(15.7, 20.0]     45\n",
       "(20.0, 22.0]     45\n",
       "(0.169, 15.7]    42\n",
       "(30.0, 36.0]     42\n",
       "(42.0, 50.0]     42\n",
       "(50.0, 76.0]     39\n",
       "(27.0, 30.0]     38\n",
       "(22.0, 24.0]     36\n",
       "(36.0, 42.0]     36\n",
       "Name: Age_replaced, dtype: int64"
      ]
     },
     "execution_count": 49,
     "metadata": {},
     "output_type": "execute_result"
    }
   ],
   "source": [
    "Age_modified.value_counts()"
   ]
  },
  {
   "cell_type": "code",
   "execution_count": 51,
   "id": "0b5acf9d",
   "metadata": {},
   "outputs": [
    {
     "data": {
      "text/plain": [
       "Age_modified\n",
       "(0.169, 15.7]    42\n",
       "(15.7, 20.0]     45\n",
       "(20.0, 22.0]     45\n",
       "(22.0, 24.0]     36\n",
       "(24.0, 27.0]     53\n",
       "(27.0, 30.0]     38\n",
       "(30.0, 36.0]     42\n",
       "(36.0, 42.0]     36\n",
       "(42.0, 50.0]     42\n",
       "(50.0, 76.0]     39\n",
       "Name: Age_replaced, dtype: int64"
      ]
     },
     "execution_count": 51,
     "metadata": {},
     "output_type": "execute_result"
    }
   ],
   "source": [
    "df.groupby(df['Age_modified'])['Age_replaced'].count()"
   ]
  },
  {
   "cell_type": "code",
   "execution_count": 52,
   "id": "3636b0be",
   "metadata": {},
   "outputs": [
    {
     "data": {
      "text/plain": [
       "<AxesSubplot:xlabel='Age_modified'>"
      ]
     },
     "execution_count": 52,
     "metadata": {},
     "output_type": "execute_result"
    },
    {
     "data": {
      "image/png": "[encoded data removed]",
      "text/plain": [
       "<Figure size 432x288 with 1 Axes>"
      ]
     },
     "metadata": {
      "needs_background": "light"
     },
     "output_type": "display_data"
    }
   ],
   "source": [
    "df.groupby(df['Age_modified'])['Age_replaced'].count().plot.bar()"
   ]
  },
  {
   "cell_type": "code",
   "execution_count": 53,
   "id": "a0322aa2",
   "metadata": {},
   "outputs": [],
   "source": [
    "### if we want u can add bins also , but using pandas we can find bins place and giving place is quite tuff , so use feature engine or sklearn "
   ]
  },
  {
   "cell_type": "code",
   "execution_count": 35,
   "id": "45cb6528",
   "metadata": {},
   "outputs": [
    {
     "data": {
      "text/plain": [
       "['Bins_1',\n",
       " 'Bins_2',\n",
       " 'Bins_3',\n",
       " 'Bins_4',\n",
       " 'Bins_5',\n",
       " 'Bins_6',\n",
       " 'Bins_7',\n",
       " 'Bins_8',\n",
       " 'Bins_9',\n",
       " 'Bins_10']"
      ]
     },
     "execution_count": 35,
     "metadata": {},
     "output_type": "execute_result"
    }
   ],
   "source": [
    "labels = ['Bins_'+str(i) for i in range(1,11)]\n",
    "labels"
   ]
  },
  {
   "cell_type": "code",
   "execution_count": 37,
   "id": "b17c9f8b",
   "metadata": {},
   "outputs": [],
   "source": [
    "Age_modified , intervals = pd.qcut(df['Age_replaced'] , 10 ,labels=labels,\n",
    "    retbins=True,precision = 3)"
   ]
  },
  {
   "cell_type": "code",
   "execution_count": 38,
   "id": "826ab6d6",
   "metadata": {},
   "outputs": [
    {
     "data": {
      "text/html": [
       "<div>\n",
       "<style scoped>\n",
       "    .dataframe tbody tr th:only-of-type {\n",
       "        vertical-align: middle;\n",
       "    }\n",
       "\n",
       "    .dataframe tbody tr th {\n",
       "        vertical-align: top;\n",
       "    }\n",
       "\n",
       "    .dataframe thead th {\n",
       "        text-align: right;\n",
       "    }\n",
       "</style>\n",
       "<table border=\"1\" class=\"dataframe\">\n",
       "  <thead>\n",
       "    <tr style=\"text-align: right;\">\n",
       "      <th></th>\n",
       "      <th>Age_replaced</th>\n",
       "      <th>Age_replaced</th>\n",
       "    </tr>\n",
       "  </thead>\n",
       "  <tbody>\n",
       "    <tr>\n",
       "      <th>0</th>\n",
       "      <td>Bins_7</td>\n",
       "      <td>34.5</td>\n",
       "    </tr>\n",
       "    <tr>\n",
       "      <th>1</th>\n",
       "      <td>Bins_9</td>\n",
       "      <td>47.0</td>\n",
       "    </tr>\n",
       "    <tr>\n",
       "      <th>2</th>\n",
       "      <td>Bins_10</td>\n",
       "      <td>62.0</td>\n",
       "    </tr>\n",
       "    <tr>\n",
       "      <th>3</th>\n",
       "      <td>Bins_5</td>\n",
       "      <td>27.0</td>\n",
       "    </tr>\n",
       "    <tr>\n",
       "      <th>4</th>\n",
       "      <td>Bins_3</td>\n",
       "      <td>22.0</td>\n",
       "    </tr>\n",
       "  </tbody>\n",
       "</table>\n",
       "</div>"
      ],
      "text/plain": [
       "   Age_replaced  Age_replaced\n",
       "0        Bins_7          34.5\n",
       "1        Bins_9          47.0\n",
       "2       Bins_10          62.0\n",
       "3        Bins_5          27.0\n",
       "4        Bins_3          22.0"
      ]
     },
     "execution_count": 38,
     "metadata": {},
     "output_type": "execute_result"
    }
   ],
   "source": [
    "pd.concat([Age_modified,df['Age_replaced']],axis = 1).head()"
   ]
  },
  {
   "cell_type": "code",
   "execution_count": 39,
   "id": "07660325",
   "metadata": {},
   "outputs": [
    {
     "data": {
      "text/plain": [
       "array([ 0.17, 15.7 , 20.  , 22.  , 24.  , 27.  , 30.  , 36.  , 42.  ,\n",
       "       50.  , 76.  ])"
      ]
     },
     "execution_count": 39,
     "metadata": {},
     "output_type": "execute_result"
    }
   ],
   "source": [
    "intervals"
   ]
  },
  {
   "cell_type": "code",
   "execution_count": 40,
   "id": "0763c30d",
   "metadata": {},
   "outputs": [
    {
     "data": {
      "text/plain": [
       "Bins_5     53\n",
       "Bins_2     45\n",
       "Bins_3     45\n",
       "Bins_1     42\n",
       "Bins_7     42\n",
       "Bins_9     42\n",
       "Bins_10    39\n",
       "Bins_6     38\n",
       "Bins_4     36\n",
       "Bins_8     36\n",
       "Name: Age_replaced, dtype: int64"
      ]
     },
     "execution_count": 40,
     "metadata": {},
     "output_type": "execute_result"
    }
   ],
   "source": [
    "Age_modified.value_counts()"
   ]
  },
  {
   "cell_type": "markdown",
   "id": "97ebb177",
   "metadata": {},
   "source": [
    "### Using Feature-Engine "
   ]
  },
  {
   "cell_type": "code",
   "execution_count": 96,
   "id": "f1f79867",
   "metadata": {},
   "outputs": [],
   "source": [
    "from feature_engine.discretisation import EqualFrequencyDiscretiser"
   ]
  },
  {
   "cell_type": "code",
   "execution_count": 97,
   "id": "a7df5f37",
   "metadata": {},
   "outputs": [],
   "source": [
    "reg = EqualFrequencyDiscretiser(q = 10 , variables = ['Age_replaced'])"
   ]
  },
  {
   "cell_type": "code",
   "execution_count": 98,
   "id": "697e5bc3",
   "metadata": {},
   "outputs": [
    {
     "data": {
      "text/plain": [
       "EqualFrequencyDiscretiser(variables=['Age_replaced'])"
      ]
     },
     "execution_count": 98,
     "metadata": {},
     "output_type": "execute_result"
    }
   ],
   "source": [
    "reg.fit(df)"
   ]
  },
  {
   "cell_type": "code",
   "execution_count": 99,
   "id": "07de0c5f",
   "metadata": {},
   "outputs": [
    {
     "data": {
      "text/plain": [
       "{'Age_replaced': [-inf,\n",
       "  15.700000000000003,\n",
       "  20.0,\n",
       "  22.0,\n",
       "  24.0,\n",
       "  27.0,\n",
       "  30.0,\n",
       "  36.0,\n",
       "  42.0,\n",
       "  50.0,\n",
       "  inf]}"
      ]
     },
     "execution_count": 99,
     "metadata": {},
     "output_type": "execute_result"
    }
   ],
   "source": [
    "reg.binner_dict_"
   ]
  },
  {
   "cell_type": "code",
   "execution_count": 100,
   "id": "986172bc",
   "metadata": {},
   "outputs": [],
   "source": [
    "df = reg.transform(df)"
   ]
  },
  {
   "cell_type": "code",
   "execution_count": 101,
   "id": "50e2a621",
   "metadata": {},
   "outputs": [
    {
     "data": {
      "text/html": [
       "<div>\n",
       "<style scoped>\n",
       "    .dataframe tbody tr th:only-of-type {\n",
       "        vertical-align: middle;\n",
       "    }\n",
       "\n",
       "    .dataframe tbody tr th {\n",
       "        vertical-align: top;\n",
       "    }\n",
       "\n",
       "    .dataframe thead th {\n",
       "        text-align: right;\n",
       "    }\n",
       "</style>\n",
       "<table border=\"1\" class=\"dataframe\">\n",
       "  <thead>\n",
       "    <tr style=\"text-align: right;\">\n",
       "      <th></th>\n",
       "      <th>Age</th>\n",
       "      <th>Fare</th>\n",
       "      <th>Survived</th>\n",
       "      <th>Age_replaced</th>\n",
       "    </tr>\n",
       "  </thead>\n",
       "  <tbody>\n",
       "    <tr>\n",
       "      <th>0</th>\n",
       "      <td>34.5</td>\n",
       "      <td>7.8292</td>\n",
       "      <td>0</td>\n",
       "      <td>6</td>\n",
       "    </tr>\n",
       "    <tr>\n",
       "      <th>1</th>\n",
       "      <td>47.0</td>\n",
       "      <td>7.0000</td>\n",
       "      <td>1</td>\n",
       "      <td>8</td>\n",
       "    </tr>\n",
       "    <tr>\n",
       "      <th>2</th>\n",
       "      <td>62.0</td>\n",
       "      <td>9.6875</td>\n",
       "      <td>0</td>\n",
       "      <td>9</td>\n",
       "    </tr>\n",
       "    <tr>\n",
       "      <th>3</th>\n",
       "      <td>27.0</td>\n",
       "      <td>8.6625</td>\n",
       "      <td>0</td>\n",
       "      <td>4</td>\n",
       "    </tr>\n",
       "    <tr>\n",
       "      <th>4</th>\n",
       "      <td>22.0</td>\n",
       "      <td>12.2875</td>\n",
       "      <td>1</td>\n",
       "      <td>2</td>\n",
       "    </tr>\n",
       "  </tbody>\n",
       "</table>\n",
       "</div>"
      ],
      "text/plain": [
       "    Age     Fare  Survived  Age_replaced\n",
       "0  34.5   7.8292         0             6\n",
       "1  47.0   7.0000         1             8\n",
       "2  62.0   9.6875         0             9\n",
       "3  27.0   8.6625         0             4\n",
       "4  22.0  12.2875         1             2"
      ]
     },
     "execution_count": 101,
     "metadata": {},
     "output_type": "execute_result"
    }
   ],
   "source": [
    "df.head()"
   ]
  },
  {
   "cell_type": "markdown",
   "id": "733d6028",
   "metadata": {},
   "source": [
    "### Using sklearn "
   ]
  },
  {
   "cell_type": "code",
   "execution_count": 102,
   "id": "b7ba841d",
   "metadata": {},
   "outputs": [],
   "source": [
    "from sklearn.preprocessing import KBinsDiscretizer"
   ]
  },
  {
   "cell_type": "code",
   "execution_count": 103,
   "id": "c8fe420e",
   "metadata": {},
   "outputs": [],
   "source": [
    "reg = KBinsDiscretizer(n_bins=10,encode='ordinal',strategy='quantile')"
   ]
  },
  {
   "cell_type": "code",
   "execution_count": 122,
   "id": "7a7bfd6c",
   "metadata": {},
   "outputs": [
    {
     "data": {
      "text/plain": [
       "KBinsDiscretizer(encode='ordinal', n_bins=10)"
      ]
     },
     "execution_count": 122,
     "metadata": {},
     "output_type": "execute_result"
    }
   ],
   "source": [
    "reg.fit(df['Age_replaced'].values.reshape(-1,1))"
   ]
  },
  {
   "cell_type": "code",
   "execution_count": 124,
   "id": "dc478773",
   "metadata": {},
   "outputs": [],
   "source": [
    "df['Age_replaced_sklearn'] = reg.transform(df['Age_replaced'].values.reshape(-1,1))"
   ]
  },
  {
   "cell_type": "code",
   "execution_count": 125,
   "id": "174e6ee6",
   "metadata": {},
   "outputs": [
    {
     "data": {
      "text/html": [
       "<div>\n",
       "<style scoped>\n",
       "    .dataframe tbody tr th:only-of-type {\n",
       "        vertical-align: middle;\n",
       "    }\n",
       "\n",
       "    .dataframe tbody tr th {\n",
       "        vertical-align: top;\n",
       "    }\n",
       "\n",
       "    .dataframe thead th {\n",
       "        text-align: right;\n",
       "    }\n",
       "</style>\n",
       "<table border=\"1\" class=\"dataframe\">\n",
       "  <thead>\n",
       "    <tr style=\"text-align: right;\">\n",
       "      <th></th>\n",
       "      <th>Age</th>\n",
       "      <th>Fare</th>\n",
       "      <th>Survived</th>\n",
       "      <th>Age_replaced</th>\n",
       "      <th>Age_replaced_sklearn</th>\n",
       "    </tr>\n",
       "  </thead>\n",
       "  <tbody>\n",
       "    <tr>\n",
       "      <th>0</th>\n",
       "      <td>34.5</td>\n",
       "      <td>7.8292</td>\n",
       "      <td>0</td>\n",
       "      <td>34.5</td>\n",
       "      <td>6.0</td>\n",
       "    </tr>\n",
       "    <tr>\n",
       "      <th>1</th>\n",
       "      <td>47.0</td>\n",
       "      <td>7.0000</td>\n",
       "      <td>1</td>\n",
       "      <td>47.0</td>\n",
       "      <td>8.0</td>\n",
       "    </tr>\n",
       "    <tr>\n",
       "      <th>2</th>\n",
       "      <td>62.0</td>\n",
       "      <td>9.6875</td>\n",
       "      <td>0</td>\n",
       "      <td>62.0</td>\n",
       "      <td>9.0</td>\n",
       "    </tr>\n",
       "    <tr>\n",
       "      <th>3</th>\n",
       "      <td>27.0</td>\n",
       "      <td>8.6625</td>\n",
       "      <td>0</td>\n",
       "      <td>27.0</td>\n",
       "      <td>5.0</td>\n",
       "    </tr>\n",
       "    <tr>\n",
       "      <th>4</th>\n",
       "      <td>22.0</td>\n",
       "      <td>12.2875</td>\n",
       "      <td>1</td>\n",
       "      <td>22.0</td>\n",
       "      <td>3.0</td>\n",
       "    </tr>\n",
       "  </tbody>\n",
       "</table>\n",
       "</div>"
      ],
      "text/plain": [
       "    Age     Fare  Survived  Age_replaced  Age_replaced_sklearn\n",
       "0  34.5   7.8292         0          34.5                   6.0\n",
       "1  47.0   7.0000         1          47.0                   8.0\n",
       "2  62.0   9.6875         0          62.0                   9.0\n",
       "3  27.0   8.6625         0          27.0                   5.0\n",
       "4  22.0  12.2875         1          22.0                   3.0"
      ]
     },
     "execution_count": 125,
     "metadata": {},
     "output_type": "execute_result"
    }
   ],
   "source": [
    "df.head()"
   ]
  },
  {
   "cell_type": "code",
   "execution_count": 126,
   "id": "7008fc04",
   "metadata": {},
   "outputs": [
    {
     "data": {
      "text/plain": [
       "array([array([ 0.17, 15.7 , 20.  , 22.  , 24.  , 27.  , 30.  , 36.  , 42.  ,\n",
       "       50.  , 76.  ])], dtype=object)"
      ]
     },
     "execution_count": 126,
     "metadata": {},
     "output_type": "execute_result"
    }
   ],
   "source": [
    "reg.bin_edges_"
   ]
  },
  {
   "cell_type": "code",
   "execution_count": 127,
   "id": "224819f3",
   "metadata": {},
   "outputs": [
    {
     "data": {
      "text/plain": [
       "'ordinal'"
      ]
     },
     "execution_count": 127,
     "metadata": {},
     "output_type": "execute_result"
    }
   ],
   "source": [
    "reg.encode"
   ]
  },
  {
   "cell_type": "code",
   "execution_count": null,
   "id": "112276e2",
   "metadata": {},
   "outputs": [],
   "source": []
  }
 ],
 "metadata": {
  "kernelspec": {
   "display_name": "Python 3",
   "language": "python",
   "name": "python3"
  },
  "language_info": {
   "codemirror_mode": {
    "name": "ipython",
    "version": 3
   },
   "file_extension": ".py",
   "mimetype": "text/x-python",
   "name": "python",
   "nbconvert_exporter": "python",
   "pygments_lexer": "ipython3",
   "version": "3.9.4"
  }
 },
 "nbformat": 4,
 "nbformat_minor": 5
}

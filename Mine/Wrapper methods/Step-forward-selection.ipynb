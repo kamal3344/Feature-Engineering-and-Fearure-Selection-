{
 "cells": [
  {
   "cell_type": "code",
   "execution_count": 2,
   "id": "30a9e0b3",
   "metadata": {},
   "outputs": [
    {
     "name": "stdout",
     "output_type": "stream",
     "text": [
      "Collecting mlxtend\n",
      "  Downloading mlxtend-0.19.0-py2.py3-none-any.whl (1.3 MB)\n",
      "Requirement already satisfied: scipy>=1.2.1 in c:\\users\\korla\\anaconda3\\envs\\tf\\lib\\site-packages (from mlxtend) (1.6.2)\n",
      "Requirement already satisfied: pandas>=0.24.2 in c:\\users\\korla\\anaconda3\\envs\\tf\\lib\\site-packages (from mlxtend) (1.2.4)\n",
      "Requirement already satisfied: setuptools in c:\\users\\korla\\anaconda3\\envs\\tf\\lib\\site-packages (from mlxtend) (52.0.0.post20210125)\n",
      "Requirement already satisfied: numpy>=1.16.2 in c:\\users\\korla\\anaconda3\\envs\\tf\\lib\\site-packages (from mlxtend) (1.19.5)\n",
      "Requirement already satisfied: scikit-learn>=0.20.3 in c:\\users\\korla\\anaconda3\\envs\\tf\\lib\\site-packages (from mlxtend) (0.24.1)\n",
      "Requirement already satisfied: matplotlib>=3.0.0 in c:\\users\\korla\\anaconda3\\envs\\tf\\lib\\site-packages (from mlxtend) (3.3.4)\n",
      "Requirement already satisfied: joblib>=0.13.2 in c:\\users\\korla\\anaconda3\\envs\\tf\\lib\\site-packages (from mlxtend) (1.0.1)\n",
      "Requirement already satisfied: pyparsing!=2.0.4,!=2.1.2,!=2.1.6,>=2.0.3 in c:\\users\\korla\\anaconda3\\envs\\tf\\lib\\site-packages (from matplotlib>=3.0.0->mlxtend) (2.4.7)\n",
      "Requirement already satisfied: cycler>=0.10 in c:\\users\\korla\\anaconda3\\envs\\tf\\lib\\site-packages (from matplotlib>=3.0.0->mlxtend) (0.10.0)\n",
      "Requirement already satisfied: kiwisolver>=1.0.1 in c:\\users\\korla\\anaconda3\\envs\\tf\\lib\\site-packages (from matplotlib>=3.0.0->mlxtend) (1.3.1)\n",
      "Requirement already satisfied: python-dateutil>=2.1 in c:\\users\\korla\\anaconda3\\envs\\tf\\lib\\site-packages (from matplotlib>=3.0.0->mlxtend) (2.8.1)\n",
      "Requirement already satisfied: pillow>=6.2.0 in c:\\users\\korla\\anaconda3\\envs\\tf\\lib\\site-packages (from matplotlib>=3.0.0->mlxtend) (8.2.0)\n",
      "Requirement already satisfied: six in c:\\users\\korla\\anaconda3\\envs\\tf\\lib\\site-packages (from cycler>=0.10->matplotlib>=3.0.0->mlxtend) (1.15.0)\n",
      "Requirement already satisfied: pytz>=2017.3 in c:\\users\\korla\\anaconda3\\envs\\tf\\lib\\site-packages (from pandas>=0.24.2->mlxtend) (2021.1)\n",
      "Requirement already satisfied: threadpoolctl>=2.0.0 in c:\\users\\korla\\anaconda3\\envs\\tf\\lib\\site-packages (from scikit-learn>=0.20.3->mlxtend) (2.1.0)\n",
      "Installing collected packages: mlxtend\n",
      "Successfully installed mlxtend-0.19.0\n"
     ]
    }
   ],
   "source": [
    "!pip install mlxtend"
   ]
  },
  {
   "cell_type": "code",
   "execution_count": 8,
   "id": "29642a49",
   "metadata": {},
   "outputs": [],
   "source": [
    "import pandas as pd\n",
    "import numpy as np\n",
    "\n",
    "from sklearn.model_selection import train_test_split\n",
    "\n",
    "from sklearn.ensemble import RandomForestRegressor, RandomForestClassifier\n",
    "from sklearn.metrics import roc_auc_score, r2_score\n",
    "\n",
    "from mlxtend.feature_selection import SequentialFeatureSelector as SFS"
   ]
  },
  {
   "cell_type": "code",
   "execution_count": 9,
   "id": "a6fc890c",
   "metadata": {},
   "outputs": [
    {
     "data": {
      "text/plain": [
       "(50000, 109)"
      ]
     },
     "execution_count": 9,
     "metadata": {},
     "output_type": "execute_result"
    }
   ],
   "source": [
    "data = pd.read_csv('dataset_2.csv')\n",
    "data.shape"
   ]
  },
  {
   "cell_type": "code",
   "execution_count": 10,
   "id": "45541ad3",
   "metadata": {},
   "outputs": [
    {
     "data": {
      "text/plain": [
       "((35000, 108), (15000, 108))"
      ]
     },
     "execution_count": 10,
     "metadata": {},
     "output_type": "execute_result"
    }
   ],
   "source": [
    "X_train, X_test, y_train, y_test = train_test_split(\n",
    "    data.drop(labels=['target'], axis=1),\n",
    "    data['target'],\n",
    "    test_size=0.3,\n",
    "    random_state=0)\n",
    "\n",
    "X_train.shape, X_test.shape"
   ]
  },
  {
   "cell_type": "code",
   "execution_count": 11,
   "id": "cffa9f4c",
   "metadata": {},
   "outputs": [],
   "source": [
    "sfs = SFS(RandomForestClassifier(n_estimators=10, n_jobs=4, random_state=0), \n",
    "           k_features=10, # the more features we want, the longer it will take to run\n",
    "           forward=True, \n",
    "           floating=False, # see the docs for more details in this parameter\n",
    "           verbose=2, # this indicates how much to print out intermediate steps\n",
    "           scoring='roc_auc',\n",
    "           cv=2)\n",
    "\n"
   ]
  },
  {
   "cell_type": "code",
   "execution_count": 12,
   "id": "14c5e7e3",
   "metadata": {},
   "outputs": [
    {
     "name": "stderr",
     "output_type": "stream",
     "text": [
      "[Parallel(n_jobs=1)]: Using backend SequentialBackend with 1 concurrent workers.\n",
      "[Parallel(n_jobs=1)]: Done   1 out of   1 | elapsed:    1.8s remaining:    0.0s\n",
      "[Parallel(n_jobs=1)]: Done 108 out of 108 | elapsed:   36.9s finished\n",
      "\n",
      "[2021-12-21 15:40:37] Features: 1/10 -- score: 0.5801157474856734[Parallel(n_jobs=1)]: Using backend SequentialBackend with 1 concurrent workers.\n",
      "[Parallel(n_jobs=1)]: Done   1 out of   1 | elapsed:    0.1s remaining:    0.0s\n",
      "[Parallel(n_jobs=1)]: Done 107 out of 107 | elapsed:   23.6s finished\n",
      "\n",
      "[2021-12-21 15:41:01] Features: 2/10 -- score: 0.6134427459683336[Parallel(n_jobs=1)]: Using backend SequentialBackend with 1 concurrent workers.\n",
      "[Parallel(n_jobs=1)]: Done   1 out of   1 | elapsed:    0.1s remaining:    0.0s\n",
      "[Parallel(n_jobs=1)]: Done 106 out of 106 | elapsed:   22.8s finished\n",
      "\n",
      "[2021-12-21 15:41:24] Features: 3/10 -- score: 0.6453233957869352[Parallel(n_jobs=1)]: Using backend SequentialBackend with 1 concurrent workers.\n",
      "[Parallel(n_jobs=1)]: Done   1 out of   1 | elapsed:    0.2s remaining:    0.0s\n",
      "[Parallel(n_jobs=1)]: Done 105 out of 105 | elapsed:   32.0s finished\n",
      "\n",
      "[2021-12-21 15:41:56] Features: 4/10 -- score: 0.6345824010963816[Parallel(n_jobs=1)]: Using backend SequentialBackend with 1 concurrent workers.\n",
      "[Parallel(n_jobs=1)]: Done   1 out of   1 | elapsed:    0.2s remaining:    0.0s\n",
      "[Parallel(n_jobs=1)]: Done 104 out of 104 | elapsed:   28.3s finished\n",
      "\n",
      "[2021-12-21 15:42:25] Features: 5/10 -- score: 0.6459652310389834[Parallel(n_jobs=1)]: Using backend SequentialBackend with 1 concurrent workers.\n",
      "[Parallel(n_jobs=1)]: Done   1 out of   1 | elapsed:    0.2s remaining:    0.0s\n",
      "[Parallel(n_jobs=1)]: Done 103 out of 103 | elapsed:   25.8s finished\n",
      "\n",
      "[2021-12-21 15:42:50] Features: 6/10 -- score: 0.6482825900333291[Parallel(n_jobs=1)]: Using backend SequentialBackend with 1 concurrent workers.\n",
      "[Parallel(n_jobs=1)]: Done   1 out of   1 | elapsed:    0.2s remaining:    0.0s\n",
      "[Parallel(n_jobs=1)]: Done 102 out of 102 | elapsed:   26.3s finished\n",
      "\n",
      "[2021-12-21 15:43:17] Features: 7/10 -- score: 0.6450828750132106[Parallel(n_jobs=1)]: Using backend SequentialBackend with 1 concurrent workers.\n",
      "[Parallel(n_jobs=1)]: Done   1 out of   1 | elapsed:    0.2s remaining:    0.0s\n",
      "[Parallel(n_jobs=1)]: Done 101 out of 101 | elapsed:   27.4s finished\n",
      "\n",
      "[2021-12-21 15:43:44] Features: 8/10 -- score: 0.648481645256237[Parallel(n_jobs=1)]: Using backend SequentialBackend with 1 concurrent workers.\n",
      "[Parallel(n_jobs=1)]: Done   1 out of   1 | elapsed:    0.3s remaining:    0.0s\n",
      "[Parallel(n_jobs=1)]: Done 100 out of 100 | elapsed:   36.1s finished\n",
      "\n",
      "[2021-12-21 15:44:21] Features: 9/10 -- score: 0.6472571036642452[Parallel(n_jobs=1)]: Using backend SequentialBackend with 1 concurrent workers.\n",
      "[Parallel(n_jobs=1)]: Done   1 out of   1 | elapsed:    0.3s remaining:    0.0s\n",
      "[Parallel(n_jobs=1)]: Done  99 out of  99 | elapsed:   35.7s finished\n",
      "\n",
      "[2021-12-21 15:44:56] Features: 10/10 -- score: 0.6532603503446718"
     ]
    }
   ],
   "source": [
    "fea = sfs.fit(X_train,y_train)"
   ]
  },
  {
   "cell_type": "code",
   "execution_count": 13,
   "id": "75139bcf",
   "metadata": {},
   "outputs": [
    {
     "data": {
      "text/plain": [
       "(13, 15, 18, 37, 44, 54, 56, 68, 89, 106)"
      ]
     },
     "execution_count": 13,
     "metadata": {},
     "output_type": "execute_result"
    }
   ],
   "source": [
    "sfs.k_feature_idx_"
   ]
  },
  {
   "cell_type": "code",
   "execution_count": 17,
   "id": "8ae4efe4",
   "metadata": {},
   "outputs": [
    {
     "data": {
      "text/plain": [
       "'var_14'"
      ]
     },
     "execution_count": 17,
     "metadata": {},
     "output_type": "execute_result"
    }
   ],
   "source": [
    "X_train.columns[13]"
   ]
  },
  {
   "cell_type": "code",
   "execution_count": 19,
   "id": "310880de",
   "metadata": {},
   "outputs": [],
   "source": [
    "reg = X_train.columns[list(sfs.k_feature_idx_)]"
   ]
  },
  {
   "cell_type": "code",
   "execution_count": 20,
   "id": "4b660a81",
   "metadata": {},
   "outputs": [
    {
     "data": {
      "text/plain": [
       "Index(['var_14', 'var_16', 'var_19', 'var_38', 'var_45', 'var_55', 'var_57',\n",
       "       'var_70', 'var_91', 'var_108'],\n",
       "      dtype='object')"
      ]
     },
     "execution_count": 20,
     "metadata": {},
     "output_type": "execute_result"
    }
   ],
   "source": [
    "reg"
   ]
  },
  {
   "cell_type": "code",
   "execution_count": 21,
   "id": "55b9595c",
   "metadata": {},
   "outputs": [],
   "source": [
    "# the above columns are top 10 columns so we can work on them "
   ]
  },
  {
   "cell_type": "code",
   "execution_count": null,
   "id": "2db16a37",
   "metadata": {},
   "outputs": [],
   "source": []
  }
 ],
 "metadata": {
  "kernelspec": {
   "display_name": "Python 3 (ipykernel)",
   "language": "python",
   "name": "python3"
  },
  "language_info": {
   "codemirror_mode": {
    "name": "ipython",
    "version": 3
   },
   "file_extension": ".py",
   "mimetype": "text/x-python",
   "name": "python",
   "nbconvert_exporter": "python",
   "pygments_lexer": "ipython3",
   "version": "3.8.12"
  }
 },
 "nbformat": 4,
 "nbformat_minor": 5
}

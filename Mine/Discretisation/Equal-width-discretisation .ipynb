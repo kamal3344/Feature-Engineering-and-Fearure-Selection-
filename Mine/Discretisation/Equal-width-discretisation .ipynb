{
 "cells": [
  {
   "cell_type": "code",
   "execution_count": 142,
   "id": "68ec13bf",
   "metadata": {},
   "outputs": [],
   "source": [
    "import numpy as np\n",
    "import pandas as pd \n",
    "import matplotlib.pyplot as plt \n",
    "import seaborn as sns "
   ]
  },
  {
   "cell_type": "code",
   "execution_count": 143,
   "id": "a8533b2d",
   "metadata": {},
   "outputs": [],
   "source": [
    "df = pd.read_csv(\"E:\\\\Feature engineering\\\\Datasets\\\\titanic.csv\")"
   ]
  },
  {
   "cell_type": "code",
   "execution_count": 144,
   "id": "385a1e1c",
   "metadata": {},
   "outputs": [
    {
     "data": {
      "text/html": [
       "<div>\n",
       "<style scoped>\n",
       "    .dataframe tbody tr th:only-of-type {\n",
       "        vertical-align: middle;\n",
       "    }\n",
       "\n",
       "    .dataframe tbody tr th {\n",
       "        vertical-align: top;\n",
       "    }\n",
       "\n",
       "    .dataframe thead th {\n",
       "        text-align: right;\n",
       "    }\n",
       "</style>\n",
       "<table border=\"1\" class=\"dataframe\">\n",
       "  <thead>\n",
       "    <tr style=\"text-align: right;\">\n",
       "      <th></th>\n",
       "      <th>PassengerId</th>\n",
       "      <th>Survived</th>\n",
       "      <th>Pclass</th>\n",
       "      <th>Name</th>\n",
       "      <th>Sex</th>\n",
       "      <th>Age</th>\n",
       "      <th>SibSp</th>\n",
       "      <th>Parch</th>\n",
       "      <th>Ticket</th>\n",
       "      <th>Fare</th>\n",
       "      <th>Cabin</th>\n",
       "      <th>Embarked</th>\n",
       "    </tr>\n",
       "  </thead>\n",
       "  <tbody>\n",
       "    <tr>\n",
       "      <th>0</th>\n",
       "      <td>892</td>\n",
       "      <td>0</td>\n",
       "      <td>3</td>\n",
       "      <td>Kelly, Mr. James</td>\n",
       "      <td>male</td>\n",
       "      <td>34.5</td>\n",
       "      <td>0</td>\n",
       "      <td>0</td>\n",
       "      <td>330911</td>\n",
       "      <td>7.8292</td>\n",
       "      <td>NaN</td>\n",
       "      <td>Q</td>\n",
       "    </tr>\n",
       "    <tr>\n",
       "      <th>1</th>\n",
       "      <td>893</td>\n",
       "      <td>1</td>\n",
       "      <td>3</td>\n",
       "      <td>Wilkes, Mrs. James (Ellen Needs)</td>\n",
       "      <td>female</td>\n",
       "      <td>47.0</td>\n",
       "      <td>1</td>\n",
       "      <td>0</td>\n",
       "      <td>363272</td>\n",
       "      <td>7.0000</td>\n",
       "      <td>NaN</td>\n",
       "      <td>S</td>\n",
       "    </tr>\n",
       "    <tr>\n",
       "      <th>2</th>\n",
       "      <td>894</td>\n",
       "      <td>0</td>\n",
       "      <td>2</td>\n",
       "      <td>Myles, Mr. Thomas Francis</td>\n",
       "      <td>male</td>\n",
       "      <td>62.0</td>\n",
       "      <td>0</td>\n",
       "      <td>0</td>\n",
       "      <td>240276</td>\n",
       "      <td>9.6875</td>\n",
       "      <td>NaN</td>\n",
       "      <td>Q</td>\n",
       "    </tr>\n",
       "    <tr>\n",
       "      <th>3</th>\n",
       "      <td>895</td>\n",
       "      <td>0</td>\n",
       "      <td>3</td>\n",
       "      <td>Wirz, Mr. Albert</td>\n",
       "      <td>male</td>\n",
       "      <td>27.0</td>\n",
       "      <td>0</td>\n",
       "      <td>0</td>\n",
       "      <td>315154</td>\n",
       "      <td>8.6625</td>\n",
       "      <td>NaN</td>\n",
       "      <td>S</td>\n",
       "    </tr>\n",
       "    <tr>\n",
       "      <th>4</th>\n",
       "      <td>896</td>\n",
       "      <td>1</td>\n",
       "      <td>3</td>\n",
       "      <td>Hirvonen, Mrs. Alexander (Helga E Lindqvist)</td>\n",
       "      <td>female</td>\n",
       "      <td>22.0</td>\n",
       "      <td>1</td>\n",
       "      <td>1</td>\n",
       "      <td>3101298</td>\n",
       "      <td>12.2875</td>\n",
       "      <td>NaN</td>\n",
       "      <td>S</td>\n",
       "    </tr>\n",
       "  </tbody>\n",
       "</table>\n",
       "</div>"
      ],
      "text/plain": [
       "   PassengerId  Survived  Pclass  \\\n",
       "0          892         0       3   \n",
       "1          893         1       3   \n",
       "2          894         0       2   \n",
       "3          895         0       3   \n",
       "4          896         1       3   \n",
       "\n",
       "                                           Name     Sex   Age  SibSp  Parch  \\\n",
       "0                              Kelly, Mr. James    male  34.5      0      0   \n",
       "1              Wilkes, Mrs. James (Ellen Needs)  female  47.0      1      0   \n",
       "2                     Myles, Mr. Thomas Francis    male  62.0      0      0   \n",
       "3                              Wirz, Mr. Albert    male  27.0      0      0   \n",
       "4  Hirvonen, Mrs. Alexander (Helga E Lindqvist)  female  22.0      1      1   \n",
       "\n",
       "    Ticket     Fare Cabin Embarked  \n",
       "0   330911   7.8292   NaN        Q  \n",
       "1   363272   7.0000   NaN        S  \n",
       "2   240276   9.6875   NaN        Q  \n",
       "3   315154   8.6625   NaN        S  \n",
       "4  3101298  12.2875   NaN        S  "
      ]
     },
     "execution_count": 144,
     "metadata": {},
     "output_type": "execute_result"
    }
   ],
   "source": [
    "df.head()\n"
   ]
  },
  {
   "cell_type": "code",
   "execution_count": 145,
   "id": "b88d1039",
   "metadata": {},
   "outputs": [],
   "source": [
    "df = df[['Age','Fare','Survived']]"
   ]
  },
  {
   "cell_type": "code",
   "execution_count": 146,
   "id": "b65db7c6",
   "metadata": {},
   "outputs": [
    {
     "data": {
      "text/plain": [
       "Age         86\n",
       "Fare         1\n",
       "Survived     0\n",
       "dtype: int64"
      ]
     },
     "execution_count": 146,
     "metadata": {},
     "output_type": "execute_result"
    }
   ],
   "source": [
    "df.isnull().sum()"
   ]
  },
  {
   "cell_type": "code",
   "execution_count": 147,
   "id": "126dca31",
   "metadata": {},
   "outputs": [],
   "source": [
    "## Random sample imputation can be done only if the data is following MCAR concepts "
   ]
  },
  {
   "cell_type": "code",
   "execution_count": 148,
   "id": "fea15f91",
   "metadata": {},
   "outputs": [],
   "source": [
    "s = df['Age'].dropna().sample(df['Age'].isnull().sum() , random_state = 42)"
   ]
  },
  {
   "cell_type": "code",
   "execution_count": 149,
   "id": "c085f411",
   "metadata": {},
   "outputs": [
    {
     "data": {
      "text/plain": [
       "Int64Index([ 27, 398,  89, 241,  68, 207, 354, 224, 262, 245,  92,   9, 399,\n",
       "            157, 345, 165, 142, 182,  94, 250, 137, 172, 372, 247,   5, 138,\n",
       "            330, 403, 204, 402, 209, 378,  74, 103, 295, 232, 228, 363,  55,\n",
       "            147,  38,  50, 291, 226, 141,  87, 222,  53, 126, 392, 117, 293,\n",
       "            254,  17, 136, 316,   7,  66, 184, 284, 374, 370, 328,   3,  95,\n",
       "            309,  71, 283,  96, 333,  18,  26, 318, 405, 337, 221, 100, 139,\n",
       "            179, 307, 144, 176, 220, 112, 393, 397],\n",
       "           dtype='int64')"
      ]
     },
     "execution_count": 149,
     "metadata": {},
     "output_type": "execute_result"
    }
   ],
   "source": [
    "s.index"
   ]
  },
  {
   "cell_type": "code",
   "execution_count": 150,
   "id": "dd05ed94",
   "metadata": {},
   "outputs": [],
   "source": [
    "## we need to replace the values "
   ]
  },
  {
   "cell_type": "code",
   "execution_count": 151,
   "id": "2dc4d209",
   "metadata": {},
   "outputs": [
    {
     "data": {
      "text/plain": [
       "Int64Index([ 27, 398,  89, 241,  68, 207, 354, 224, 262, 245,  92,   9, 399,\n",
       "            157, 345, 165, 142, 182,  94, 250, 137, 172, 372, 247,   5, 138,\n",
       "            330, 403, 204, 402, 209, 378,  74, 103, 295, 232, 228, 363,  55,\n",
       "            147,  38,  50, 291, 226, 141,  87, 222,  53, 126, 392, 117, 293,\n",
       "            254,  17, 136, 316,   7,  66, 184, 284, 374, 370, 328,   3,  95,\n",
       "            309,  71, 283,  96, 333,  18,  26, 318, 405, 337, 221, 100, 139,\n",
       "            179, 307, 144, 176, 220, 112, 393, 397],\n",
       "           dtype='int64')"
      ]
     },
     "execution_count": 151,
     "metadata": {},
     "output_type": "execute_result"
    }
   ],
   "source": [
    "s.index"
   ]
  },
  {
   "cell_type": "code",
   "execution_count": 152,
   "id": "d1abdcf9",
   "metadata": {},
   "outputs": [
    {
     "data": {
      "text/plain": [
       "nan"
      ]
     },
     "execution_count": 152,
     "metadata": {},
     "output_type": "execute_result"
    }
   ],
   "source": [
    "df['Age'][10]"
   ]
  },
  {
   "cell_type": "code",
   "execution_count": 153,
   "id": "ad003a4d",
   "metadata": {},
   "outputs": [
    {
     "data": {
      "text/plain": [
       "Int64Index([ 10,  22,  29,  33,  36,  39,  41,  47,  54,  58,  65,  76,  83,\n",
       "             84,  85,  88,  91,  93, 102, 107, 108, 111, 116, 121, 124, 127,\n",
       "            132, 133, 146, 148, 151, 160, 163, 168, 170, 173, 183, 188, 191,\n",
       "            199, 200, 205, 211, 216, 219, 225, 227, 233, 243, 244, 249, 255,\n",
       "            256, 265, 266, 267, 268, 271, 273, 274, 282, 286, 288, 289, 290,\n",
       "            292, 297, 301, 304, 312, 332, 339, 342, 344, 357, 358, 365, 366,\n",
       "            380, 382, 384, 408, 410, 413, 416, 417],\n",
       "           dtype='int64')"
      ]
     },
     "execution_count": 153,
     "metadata": {},
     "output_type": "execute_result"
    }
   ],
   "source": [
    "df[df['Age'].isnull()].index"
   ]
  },
  {
   "cell_type": "code",
   "execution_count": 154,
   "id": "8198e79b",
   "metadata": {},
   "outputs": [
    {
     "data": {
      "text/html": [
       "<div>\n",
       "<style scoped>\n",
       "    .dataframe tbody tr th:only-of-type {\n",
       "        vertical-align: middle;\n",
       "    }\n",
       "\n",
       "    .dataframe tbody tr th {\n",
       "        vertical-align: top;\n",
       "    }\n",
       "\n",
       "    .dataframe thead th {\n",
       "        text-align: right;\n",
       "    }\n",
       "</style>\n",
       "<table border=\"1\" class=\"dataframe\">\n",
       "  <thead>\n",
       "    <tr style=\"text-align: right;\">\n",
       "      <th></th>\n",
       "      <th>Age</th>\n",
       "      <th>Fare</th>\n",
       "      <th>Survived</th>\n",
       "    </tr>\n",
       "  </thead>\n",
       "  <tbody>\n",
       "    <tr>\n",
       "      <th>10</th>\n",
       "      <td>NaN</td>\n",
       "      <td>7.8958</td>\n",
       "      <td>0</td>\n",
       "    </tr>\n",
       "  </tbody>\n",
       "</table>\n",
       "</div>"
      ],
      "text/plain": [
       "    Age    Fare  Survived\n",
       "10  NaN  7.8958         0"
      ]
     },
     "execution_count": 154,
     "metadata": {},
     "output_type": "execute_result"
    }
   ],
   "source": [
    "x = df[df['Age'].isnull()].head(1)\n",
    "x"
   ]
  },
  {
   "cell_type": "code",
   "execution_count": 155,
   "id": "45c83aaa",
   "metadata": {},
   "outputs": [],
   "source": [
    "def random(df , variable):\n",
    "    df[variable+\"_replaced\"] = df[variable].copy()\n",
    "    s = df['Age'].dropna().sample(df['Age'].isnull().sum() , random_state = 42)\n",
    "    s.index = df[df['Age'].isnull()].index\n",
    "    df.loc[df['Age'].isnull() , 'Age_replaced'] = s\n",
    "    \n",
    "    \n",
    "    "
   ]
  },
  {
   "cell_type": "code",
   "execution_count": 156,
   "id": "da75d798",
   "metadata": {},
   "outputs": [],
   "source": [
    "random(df,'Age')"
   ]
  },
  {
   "cell_type": "code",
   "execution_count": 157,
   "id": "9bd0305f",
   "metadata": {},
   "outputs": [
    {
     "data": {
      "text/plain": [
       "Age             86\n",
       "Fare             1\n",
       "Survived         0\n",
       "Age_replaced     0\n",
       "dtype: int64"
      ]
     },
     "execution_count": 157,
     "metadata": {},
     "output_type": "execute_result"
    }
   ],
   "source": [
    "df.isnull().sum()"
   ]
  },
  {
   "cell_type": "code",
   "execution_count": 158,
   "id": "e9c9796e",
   "metadata": {},
   "outputs": [
    {
     "data": {
      "text/plain": [
       "<AxesSubplot:>"
      ]
     },
     "execution_count": 158,
     "metadata": {},
     "output_type": "execute_result"
    },
    {
     "data": {
      "image/png": "[encoded data removed]",
      "text/plain": [
       "<Figure size 432x288 with 1 Axes>"
      ]
     },
     "metadata": {
      "needs_background": "light"
     },
     "output_type": "display_data"
    }
   ],
   "source": [
    "df['Age_replaced'].hist(bins = 30)"
   ]
  },
  {
   "cell_type": "code",
   "execution_count": 159,
   "id": "13ac9bdf",
   "metadata": {},
   "outputs": [],
   "source": [
    "value = df['Age_replaced'].max() - df['Age_replaced'].min() "
   ]
  },
  {
   "cell_type": "code",
   "execution_count": 160,
   "id": "25efc5a9",
   "metadata": {},
   "outputs": [
    {
     "data": {
      "text/plain": [
       "75.83"
      ]
     },
     "execution_count": 160,
     "metadata": {},
     "output_type": "execute_result"
    }
   ],
   "source": [
    "value"
   ]
  },
  {
   "cell_type": "markdown",
   "id": "edcd46dc",
   "metadata": {},
   "source": [
    "Formula = max(fearture) - min(feature) / Number of bins we want to create "
   ]
  },
  {
   "cell_type": "code",
   "execution_count": 51,
   "id": "d86bb067",
   "metadata": {},
   "outputs": [
    {
     "data": {
      "text/plain": [
       "7.583"
      ]
     },
     "execution_count": 51,
     "metadata": {},
     "output_type": "execute_result"
    }
   ],
   "source": [
    "value / 10"
   ]
  },
  {
   "cell_type": "code",
   "execution_count": 52,
   "id": "e5f8f0e7",
   "metadata": {},
   "outputs": [
    {
     "data": {
      "text/plain": [
       "8.0"
      ]
     },
     "execution_count": 52,
     "metadata": {},
     "output_type": "execute_result"
    }
   ],
   "source": [
    "range_values = np.round(value / 10)\n",
    "range_values"
   ]
  },
  {
   "cell_type": "code",
   "execution_count": 60,
   "id": "5b200291",
   "metadata": {},
   "outputs": [],
   "source": [
    "lower = np.floor(df['Age_replaced'].min())\n",
    "upper = np.round(df['Age_replaced'].max())\n"
   ]
  },
  {
   "cell_type": "code",
   "execution_count": 62,
   "id": "8c1cfaa8",
   "metadata": {},
   "outputs": [
    {
     "data": {
      "text/plain": [
       "0"
      ]
     },
     "execution_count": 62,
     "metadata": {},
     "output_type": "execute_result"
    }
   ],
   "source": [
    "lower = int(lower)\n",
    "lower"
   ]
  },
  {
   "cell_type": "code",
   "execution_count": 63,
   "id": "2dd45953",
   "metadata": {},
   "outputs": [
    {
     "data": {
      "text/plain": [
       "76"
      ]
     },
     "execution_count": 63,
     "metadata": {},
     "output_type": "execute_result"
    }
   ],
   "source": [
    "upper = int(upper)\n",
    "upper"
   ]
  },
  {
   "cell_type": "code",
   "execution_count": 64,
   "id": "1291e985",
   "metadata": {},
   "outputs": [],
   "source": [
    "range_values = int(range_values)"
   ]
  },
  {
   "cell_type": "code",
   "execution_count": 65,
   "id": "28fb6f3d",
   "metadata": {},
   "outputs": [
    {
     "data": {
      "text/plain": [
       "8"
      ]
     },
     "execution_count": 65,
     "metadata": {},
     "output_type": "execute_result"
    }
   ],
   "source": [
    "range_values"
   ]
  },
  {
   "cell_type": "code",
   "execution_count": 70,
   "id": "71df2fc7",
   "metadata": {},
   "outputs": [
    {
     "name": "stdout",
     "output_type": "stream",
     "text": [
      "[0, 8, 16, 24, 32, 40, 48, 56, 64, 72, 80]\n"
     ]
    }
   ],
   "source": [
    "li = [i for i in range(lower,upper+range_values,range_values)]\n",
    "\n",
    "print(li)"
   ]
  },
  {
   "cell_type": "code",
   "execution_count": 72,
   "id": "f6a2766f",
   "metadata": {},
   "outputs": [
    {
     "data": {
      "text/plain": [
       "['Bins_1',\n",
       " 'Bins_2',\n",
       " 'Bins_3',\n",
       " 'Bins_4',\n",
       " 'Bins_5',\n",
       " 'Bins_6',\n",
       " 'Bins_7',\n",
       " 'Bins_8',\n",
       " 'Bins_9',\n",
       " 'Bins_10']"
      ]
     },
     "execution_count": 72,
     "metadata": {},
     "output_type": "execute_result"
    }
   ],
   "source": [
    "res = ['Bins_'+str(j) for j in range(1, len(li))]\n",
    "res"
   ]
  },
  {
   "cell_type": "code",
   "execution_count": 73,
   "id": "a305856f",
   "metadata": {},
   "outputs": [],
   "source": [
    "df['Age_Equal_width'] = pd.cut(x = df['Age_replaced'] , bins=li)"
   ]
  },
  {
   "cell_type": "code",
   "execution_count": 77,
   "id": "f03e3a30",
   "metadata": {},
   "outputs": [],
   "source": [
    "df['Age_Equal_width_names'] = pd.cut(x = df['Age_replaced'] , labels=res , bins = li)"
   ]
  },
  {
   "cell_type": "code",
   "execution_count": 78,
   "id": "9a516672",
   "metadata": {},
   "outputs": [
    {
     "data": {
      "text/html": [
       "<div>\n",
       "<style scoped>\n",
       "    .dataframe tbody tr th:only-of-type {\n",
       "        vertical-align: middle;\n",
       "    }\n",
       "\n",
       "    .dataframe tbody tr th {\n",
       "        vertical-align: top;\n",
       "    }\n",
       "\n",
       "    .dataframe thead th {\n",
       "        text-align: right;\n",
       "    }\n",
       "</style>\n",
       "<table border=\"1\" class=\"dataframe\">\n",
       "  <thead>\n",
       "    <tr style=\"text-align: right;\">\n",
       "      <th></th>\n",
       "      <th>Age</th>\n",
       "      <th>Fare</th>\n",
       "      <th>Survived</th>\n",
       "      <th>Age_replaced</th>\n",
       "      <th>Age_Equal_width</th>\n",
       "      <th>Age_Equal_width_names</th>\n",
       "    </tr>\n",
       "  </thead>\n",
       "  <tbody>\n",
       "    <tr>\n",
       "      <th>0</th>\n",
       "      <td>34.5</td>\n",
       "      <td>7.8292</td>\n",
       "      <td>0</td>\n",
       "      <td>34.5</td>\n",
       "      <td>(32, 40]</td>\n",
       "      <td>Bins_5</td>\n",
       "    </tr>\n",
       "    <tr>\n",
       "      <th>1</th>\n",
       "      <td>47.0</td>\n",
       "      <td>7.0000</td>\n",
       "      <td>1</td>\n",
       "      <td>47.0</td>\n",
       "      <td>(40, 48]</td>\n",
       "      <td>Bins_6</td>\n",
       "    </tr>\n",
       "    <tr>\n",
       "      <th>2</th>\n",
       "      <td>62.0</td>\n",
       "      <td>9.6875</td>\n",
       "      <td>0</td>\n",
       "      <td>62.0</td>\n",
       "      <td>(56, 64]</td>\n",
       "      <td>Bins_8</td>\n",
       "    </tr>\n",
       "    <tr>\n",
       "      <th>3</th>\n",
       "      <td>27.0</td>\n",
       "      <td>8.6625</td>\n",
       "      <td>0</td>\n",
       "      <td>27.0</td>\n",
       "      <td>(24, 32]</td>\n",
       "      <td>Bins_4</td>\n",
       "    </tr>\n",
       "    <tr>\n",
       "      <th>4</th>\n",
       "      <td>22.0</td>\n",
       "      <td>12.2875</td>\n",
       "      <td>1</td>\n",
       "      <td>22.0</td>\n",
       "      <td>(16, 24]</td>\n",
       "      <td>Bins_3</td>\n",
       "    </tr>\n",
       "  </tbody>\n",
       "</table>\n",
       "</div>"
      ],
      "text/plain": [
       "    Age     Fare  Survived  Age_replaced Age_Equal_width Age_Equal_width_names\n",
       "0  34.5   7.8292         0          34.5        (32, 40]                Bins_5\n",
       "1  47.0   7.0000         1          47.0        (40, 48]                Bins_6\n",
       "2  62.0   9.6875         0          62.0        (56, 64]                Bins_8\n",
       "3  27.0   8.6625         0          27.0        (24, 32]                Bins_4\n",
       "4  22.0  12.2875         1          22.0        (16, 24]                Bins_3"
      ]
     },
     "execution_count": 78,
     "metadata": {},
     "output_type": "execute_result"
    }
   ],
   "source": [
    "df.head()"
   ]
  },
  {
   "cell_type": "code",
   "execution_count": 79,
   "id": "7856f5d9",
   "metadata": {},
   "outputs": [
    {
     "data": {
      "text/plain": [
       "Age_Equal_width\n",
       "(0, 8]       24\n",
       "(8, 16]      21\n",
       "(16, 24]    123\n",
       "(24, 32]    105\n",
       "(32, 40]     49\n",
       "(40, 48]     48\n",
       "(48, 56]     25\n",
       "(56, 64]     20\n",
       "(64, 72]      1\n",
       "(72, 80]      2\n",
       "Name: Age_replaced, dtype: int64"
      ]
     },
     "execution_count": 79,
     "metadata": {},
     "output_type": "execute_result"
    }
   ],
   "source": [
    "df.groupby(['Age_Equal_width'])['Age_replaced'].count()"
   ]
  },
  {
   "cell_type": "code",
   "execution_count": 81,
   "id": "37684395",
   "metadata": {},
   "outputs": [
    {
     "data": {
      "image/png": "[encoded data removed]",
      "text/plain": [
       "<Figure size 432x288 with 1 Axes>"
      ]
     },
     "metadata": {
      "needs_background": "light"
     },
     "output_type": "display_data"
    }
   ],
   "source": [
    "df.groupby(['Age_Equal_width'])['Age_replaced'].count().plot.bar()\n",
    "plt.xticks(rotation = 45)\n",
    "plt.ylabel('No of observations per bin')\n",
    "plt.show()"
   ]
  },
  {
   "cell_type": "markdown",
   "id": "dc6a2ae7",
   "metadata": {},
   "source": [
    "### using Feature-engine "
   ]
  },
  {
   "cell_type": "code",
   "execution_count": 101,
   "id": "ea854df8",
   "metadata": {},
   "outputs": [
    {
     "data": {
      "text/plain": [
       "Age             86\n",
       "Fare             1\n",
       "Survived         0\n",
       "Age_replaced     0\n",
       "dtype: int64"
      ]
     },
     "execution_count": 101,
     "metadata": {},
     "output_type": "execute_result"
    }
   ],
   "source": [
    "df.isnull().sum()"
   ]
  },
  {
   "cell_type": "code",
   "execution_count": 105,
   "id": "971bb8df",
   "metadata": {},
   "outputs": [],
   "source": [
    "from feature_engine.discretisation import EqualWidthDiscretiser"
   ]
  },
  {
   "cell_type": "code",
   "execution_count": 107,
   "id": "7cacebcd",
   "metadata": {},
   "outputs": [],
   "source": [
    "reg = EqualWidthDiscretiser(bins = 10 , variables = ['Age_replaced'])"
   ]
  },
  {
   "cell_type": "code",
   "execution_count": 108,
   "id": "e2ecdf6e",
   "metadata": {},
   "outputs": [
    {
     "data": {
      "text/plain": [
       "EqualWidthDiscretiser(variables=['Age_replaced'])"
      ]
     },
     "execution_count": 108,
     "metadata": {},
     "output_type": "execute_result"
    }
   ],
   "source": [
    "reg.fit(df)"
   ]
  },
  {
   "cell_type": "code",
   "execution_count": 109,
   "id": "d307229a",
   "metadata": {},
   "outputs": [
    {
     "data": {
      "text/plain": [
       "{'Age_replaced': [-inf,\n",
       "  7.753,\n",
       "  15.336,\n",
       "  22.919000000000004,\n",
       "  30.502000000000002,\n",
       "  38.085,\n",
       "  45.668000000000006,\n",
       "  53.251000000000005,\n",
       "  60.834,\n",
       "  68.417,\n",
       "  inf]}"
      ]
     },
     "execution_count": 109,
     "metadata": {},
     "output_type": "execute_result"
    }
   ],
   "source": [
    "reg.binner_dict_"
   ]
  },
  {
   "cell_type": "code",
   "execution_count": 112,
   "id": "d980c73d",
   "metadata": {},
   "outputs": [],
   "source": [
    "df = reg.transform(df)"
   ]
  },
  {
   "cell_type": "code",
   "execution_count": 113,
   "id": "693b6b01",
   "metadata": {},
   "outputs": [
    {
     "data": {
      "text/html": [
       "<div>\n",
       "<style scoped>\n",
       "    .dataframe tbody tr th:only-of-type {\n",
       "        vertical-align: middle;\n",
       "    }\n",
       "\n",
       "    .dataframe tbody tr th {\n",
       "        vertical-align: top;\n",
       "    }\n",
       "\n",
       "    .dataframe thead th {\n",
       "        text-align: right;\n",
       "    }\n",
       "</style>\n",
       "<table border=\"1\" class=\"dataframe\">\n",
       "  <thead>\n",
       "    <tr style=\"text-align: right;\">\n",
       "      <th></th>\n",
       "      <th>Age</th>\n",
       "      <th>Fare</th>\n",
       "      <th>Survived</th>\n",
       "      <th>Age_replaced</th>\n",
       "    </tr>\n",
       "  </thead>\n",
       "  <tbody>\n",
       "    <tr>\n",
       "      <th>0</th>\n",
       "      <td>34.5</td>\n",
       "      <td>7.8292</td>\n",
       "      <td>0</td>\n",
       "      <td>4</td>\n",
       "    </tr>\n",
       "    <tr>\n",
       "      <th>1</th>\n",
       "      <td>47.0</td>\n",
       "      <td>7.0000</td>\n",
       "      <td>1</td>\n",
       "      <td>6</td>\n",
       "    </tr>\n",
       "    <tr>\n",
       "      <th>2</th>\n",
       "      <td>62.0</td>\n",
       "      <td>9.6875</td>\n",
       "      <td>0</td>\n",
       "      <td>8</td>\n",
       "    </tr>\n",
       "    <tr>\n",
       "      <th>3</th>\n",
       "      <td>27.0</td>\n",
       "      <td>8.6625</td>\n",
       "      <td>0</td>\n",
       "      <td>3</td>\n",
       "    </tr>\n",
       "    <tr>\n",
       "      <th>4</th>\n",
       "      <td>22.0</td>\n",
       "      <td>12.2875</td>\n",
       "      <td>1</td>\n",
       "      <td>2</td>\n",
       "    </tr>\n",
       "  </tbody>\n",
       "</table>\n",
       "</div>"
      ],
      "text/plain": [
       "    Age     Fare  Survived  Age_replaced\n",
       "0  34.5   7.8292         0             4\n",
       "1  47.0   7.0000         1             6\n",
       "2  62.0   9.6875         0             8\n",
       "3  27.0   8.6625         0             3\n",
       "4  22.0  12.2875         1             2"
      ]
     },
     "execution_count": 113,
     "metadata": {},
     "output_type": "execute_result"
    }
   ],
   "source": [
    "df.head()"
   ]
  },
  {
   "cell_type": "markdown",
   "id": "534c1b07",
   "metadata": {},
   "source": [
    "### Using sklearn"
   ]
  },
  {
   "cell_type": "code",
   "execution_count": 161,
   "id": "7fe571bf",
   "metadata": {},
   "outputs": [],
   "source": [
    "from sklearn.preprocessing import KBinsDiscretizer"
   ]
  },
  {
   "cell_type": "code",
   "execution_count": 168,
   "id": "d10b9452",
   "metadata": {},
   "outputs": [],
   "source": [
    "reg = KBinsDiscretizer(n_bins=10 , strategy='uniform',encode='ordinal')"
   ]
  },
  {
   "cell_type": "code",
   "execution_count": 169,
   "id": "d9420816",
   "metadata": {},
   "outputs": [
    {
     "data": {
      "text/plain": [
       "KBinsDiscretizer(encode='ordinal', n_bins=10, strategy='uniform')"
      ]
     },
     "execution_count": 169,
     "metadata": {},
     "output_type": "execute_result"
    }
   ],
   "source": [
    "reg.fit(df['Age_replaced'].values.reshape(-1,1))"
   ]
  },
  {
   "cell_type": "code",
   "execution_count": 170,
   "id": "96561edd",
   "metadata": {},
   "outputs": [
    {
     "data": {
      "text/plain": [
       "array([array([ 0.17 ,  7.753, 15.336, 22.919, 30.502, 38.085, 45.668, 53.251,\n",
       "       60.834, 68.417, 76.   ])], dtype=object)"
      ]
     },
     "execution_count": 170,
     "metadata": {},
     "output_type": "execute_result"
    }
   ],
   "source": [
    "reg.bin_edges_"
   ]
  },
  {
   "cell_type": "code",
   "execution_count": 171,
   "id": "22bdbe89",
   "metadata": {},
   "outputs": [],
   "source": [
    "df['Age_sklearn'] = reg.transform(df['Age_replaced'].values.reshape(-1,1))"
   ]
  },
  {
   "cell_type": "code",
   "execution_count": 172,
   "id": "fcf9d293",
   "metadata": {},
   "outputs": [
    {
     "data": {
      "text/html": [
       "<div>\n",
       "<style scoped>\n",
       "    .dataframe tbody tr th:only-of-type {\n",
       "        vertical-align: middle;\n",
       "    }\n",
       "\n",
       "    .dataframe tbody tr th {\n",
       "        vertical-align: top;\n",
       "    }\n",
       "\n",
       "    .dataframe thead th {\n",
       "        text-align: right;\n",
       "    }\n",
       "</style>\n",
       "<table border=\"1\" class=\"dataframe\">\n",
       "  <thead>\n",
       "    <tr style=\"text-align: right;\">\n",
       "      <th></th>\n",
       "      <th>Age</th>\n",
       "      <th>Fare</th>\n",
       "      <th>Survived</th>\n",
       "      <th>Age_replaced</th>\n",
       "      <th>Age_sklearn</th>\n",
       "    </tr>\n",
       "  </thead>\n",
       "  <tbody>\n",
       "    <tr>\n",
       "      <th>0</th>\n",
       "      <td>34.5</td>\n",
       "      <td>7.8292</td>\n",
       "      <td>0</td>\n",
       "      <td>34.5</td>\n",
       "      <td>4.0</td>\n",
       "    </tr>\n",
       "    <tr>\n",
       "      <th>1</th>\n",
       "      <td>47.0</td>\n",
       "      <td>7.0000</td>\n",
       "      <td>1</td>\n",
       "      <td>47.0</td>\n",
       "      <td>6.0</td>\n",
       "    </tr>\n",
       "    <tr>\n",
       "      <th>2</th>\n",
       "      <td>62.0</td>\n",
       "      <td>9.6875</td>\n",
       "      <td>0</td>\n",
       "      <td>62.0</td>\n",
       "      <td>8.0</td>\n",
       "    </tr>\n",
       "    <tr>\n",
       "      <th>3</th>\n",
       "      <td>27.0</td>\n",
       "      <td>8.6625</td>\n",
       "      <td>0</td>\n",
       "      <td>27.0</td>\n",
       "      <td>3.0</td>\n",
       "    </tr>\n",
       "    <tr>\n",
       "      <th>4</th>\n",
       "      <td>22.0</td>\n",
       "      <td>12.2875</td>\n",
       "      <td>1</td>\n",
       "      <td>22.0</td>\n",
       "      <td>2.0</td>\n",
       "    </tr>\n",
       "  </tbody>\n",
       "</table>\n",
       "</div>"
      ],
      "text/plain": [
       "    Age     Fare  Survived  Age_replaced  Age_sklearn\n",
       "0  34.5   7.8292         0          34.5          4.0\n",
       "1  47.0   7.0000         1          47.0          6.0\n",
       "2  62.0   9.6875         0          62.0          8.0\n",
       "3  27.0   8.6625         0          27.0          3.0\n",
       "4  22.0  12.2875         1          22.0          2.0"
      ]
     },
     "execution_count": 172,
     "metadata": {},
     "output_type": "execute_result"
    }
   ],
   "source": [
    "df.head()"
   ]
  },
  {
   "cell_type": "code",
   "execution_count": 173,
   "id": "a620864f",
   "metadata": {},
   "outputs": [
    {
     "data": {
      "text/plain": [
       "array([4., 6., 8., 3., 2., 1., 5., 7., 0., 9.])"
      ]
     },
     "execution_count": 173,
     "metadata": {},
     "output_type": "execute_result"
    }
   ],
   "source": [
    "df['Age_sklearn'].unique()"
   ]
  },
  {
   "cell_type": "code",
   "execution_count": null,
   "id": "1ac4a5a0",
   "metadata": {},
   "outputs": [],
   "source": []
  }
 ],
 "metadata": {
  "kernelspec": {
   "display_name": "Python 3",
   "language": "python",
   "name": "python3"
  },
  "language_info": {
   "codemirror_mode": {
    "name": "ipython",
    "version": 3
   },
   "file_extension": ".py",
   "mimetype": "text/x-python",
   "name": "python",
   "nbconvert_exporter": "python",
   "pygments_lexer": "ipython3",
   "version": "3.9.4"
  }
 },
 "nbformat": 4,
 "nbformat_minor": 5
}

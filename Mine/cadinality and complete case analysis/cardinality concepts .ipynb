{
 "cells": [
  {
   "cell_type": "code",
   "execution_count": 26,
   "id": "37427629",
   "metadata": {},
   "outputs": [],
   "source": [
    "import numpy as np \n",
    "import pandas as pd \n",
    "import matplotlib.pyplot as plt \n",
    "import seaborn as sns "
   ]
  },
  {
   "cell_type": "code",
   "execution_count": 27,
   "id": "f75de5e1",
   "metadata": {},
   "outputs": [],
   "source": [
    "df = pd.read_csv(\"E:\\\\Feature engineering\\\\Datasets\\\\titanic.csv\")"
   ]
  },
  {
   "cell_type": "code",
   "execution_count": 28,
   "id": "f0a77798",
   "metadata": {},
   "outputs": [
    {
     "data": {
      "text/html": [
       "<div>\n",
       "<style scoped>\n",
       "    .dataframe tbody tr th:only-of-type {\n",
       "        vertical-align: middle;\n",
       "    }\n",
       "\n",
       "    .dataframe tbody tr th {\n",
       "        vertical-align: top;\n",
       "    }\n",
       "\n",
       "    .dataframe thead th {\n",
       "        text-align: right;\n",
       "    }\n",
       "</style>\n",
       "<table border=\"1\" class=\"dataframe\">\n",
       "  <thead>\n",
       "    <tr style=\"text-align: right;\">\n",
       "      <th></th>\n",
       "      <th>PassengerId</th>\n",
       "      <th>Survived</th>\n",
       "      <th>Pclass</th>\n",
       "      <th>Name</th>\n",
       "      <th>Sex</th>\n",
       "      <th>Age</th>\n",
       "      <th>SibSp</th>\n",
       "      <th>Parch</th>\n",
       "      <th>Ticket</th>\n",
       "      <th>Fare</th>\n",
       "      <th>Cabin</th>\n",
       "      <th>Embarked</th>\n",
       "    </tr>\n",
       "  </thead>\n",
       "  <tbody>\n",
       "    <tr>\n",
       "      <th>0</th>\n",
       "      <td>892</td>\n",
       "      <td>0</td>\n",
       "      <td>3</td>\n",
       "      <td>Kelly, Mr. James</td>\n",
       "      <td>male</td>\n",
       "      <td>34.5</td>\n",
       "      <td>0</td>\n",
       "      <td>0</td>\n",
       "      <td>330911</td>\n",
       "      <td>7.8292</td>\n",
       "      <td>NaN</td>\n",
       "      <td>Q</td>\n",
       "    </tr>\n",
       "    <tr>\n",
       "      <th>1</th>\n",
       "      <td>893</td>\n",
       "      <td>1</td>\n",
       "      <td>3</td>\n",
       "      <td>Wilkes, Mrs. James (Ellen Needs)</td>\n",
       "      <td>female</td>\n",
       "      <td>47.0</td>\n",
       "      <td>1</td>\n",
       "      <td>0</td>\n",
       "      <td>363272</td>\n",
       "      <td>7.0000</td>\n",
       "      <td>NaN</td>\n",
       "      <td>S</td>\n",
       "    </tr>\n",
       "    <tr>\n",
       "      <th>2</th>\n",
       "      <td>894</td>\n",
       "      <td>0</td>\n",
       "      <td>2</td>\n",
       "      <td>Myles, Mr. Thomas Francis</td>\n",
       "      <td>male</td>\n",
       "      <td>62.0</td>\n",
       "      <td>0</td>\n",
       "      <td>0</td>\n",
       "      <td>240276</td>\n",
       "      <td>9.6875</td>\n",
       "      <td>NaN</td>\n",
       "      <td>Q</td>\n",
       "    </tr>\n",
       "    <tr>\n",
       "      <th>3</th>\n",
       "      <td>895</td>\n",
       "      <td>0</td>\n",
       "      <td>3</td>\n",
       "      <td>Wirz, Mr. Albert</td>\n",
       "      <td>male</td>\n",
       "      <td>27.0</td>\n",
       "      <td>0</td>\n",
       "      <td>0</td>\n",
       "      <td>315154</td>\n",
       "      <td>8.6625</td>\n",
       "      <td>NaN</td>\n",
       "      <td>S</td>\n",
       "    </tr>\n",
       "    <tr>\n",
       "      <th>4</th>\n",
       "      <td>896</td>\n",
       "      <td>1</td>\n",
       "      <td>3</td>\n",
       "      <td>Hirvonen, Mrs. Alexander (Helga E Lindqvist)</td>\n",
       "      <td>female</td>\n",
       "      <td>22.0</td>\n",
       "      <td>1</td>\n",
       "      <td>1</td>\n",
       "      <td>3101298</td>\n",
       "      <td>12.2875</td>\n",
       "      <td>NaN</td>\n",
       "      <td>S</td>\n",
       "    </tr>\n",
       "  </tbody>\n",
       "</table>\n",
       "</div>"
      ],
      "text/plain": [
       "   PassengerId  Survived  Pclass  \\\n",
       "0          892         0       3   \n",
       "1          893         1       3   \n",
       "2          894         0       2   \n",
       "3          895         0       3   \n",
       "4          896         1       3   \n",
       "\n",
       "                                           Name     Sex   Age  SibSp  Parch  \\\n",
       "0                              Kelly, Mr. James    male  34.5      0      0   \n",
       "1              Wilkes, Mrs. James (Ellen Needs)  female  47.0      1      0   \n",
       "2                     Myles, Mr. Thomas Francis    male  62.0      0      0   \n",
       "3                              Wirz, Mr. Albert    male  27.0      0      0   \n",
       "4  Hirvonen, Mrs. Alexander (Helga E Lindqvist)  female  22.0      1      1   \n",
       "\n",
       "    Ticket     Fare Cabin Embarked  \n",
       "0   330911   7.8292   NaN        Q  \n",
       "1   363272   7.0000   NaN        S  \n",
       "2   240276   9.6875   NaN        Q  \n",
       "3   315154   8.6625   NaN        S  \n",
       "4  3101298  12.2875   NaN        S  "
      ]
     },
     "execution_count": 28,
     "metadata": {},
     "output_type": "execute_result"
    }
   ],
   "source": [
    "df.head()"
   ]
  },
  {
   "cell_type": "code",
   "execution_count": 29,
   "id": "cf4d257a",
   "metadata": {},
   "outputs": [
    {
     "data": {
      "text/plain": [
       "Index(['PassengerId', 'Survived', 'Pclass', 'Name', 'Sex', 'Age', 'SibSp',\n",
       "       'Parch', 'Ticket', 'Fare', 'Cabin', 'Embarked'],\n",
       "      dtype='object')"
      ]
     },
     "execution_count": 29,
     "metadata": {},
     "output_type": "execute_result"
    }
   ],
   "source": [
    "df.columns"
   ]
  },
  {
   "cell_type": "code",
   "execution_count": 30,
   "id": "4c0b704b",
   "metadata": {},
   "outputs": [
    {
     "data": {
      "text/plain": [
       "PassengerId      0\n",
       "Survived         0\n",
       "Pclass           0\n",
       "Name             0\n",
       "Sex              0\n",
       "Age             86\n",
       "SibSp            0\n",
       "Parch            0\n",
       "Ticket           0\n",
       "Fare             1\n",
       "Cabin          327\n",
       "Embarked         0\n",
       "dtype: int64"
      ]
     },
     "execution_count": 30,
     "metadata": {},
     "output_type": "execute_result"
    }
   ],
   "source": [
    "df.isnull().sum()"
   ]
  },
  {
   "cell_type": "code",
   "execution_count": 31,
   "id": "3da2173f",
   "metadata": {},
   "outputs": [],
   "source": [
    "df = df.drop(['PassengerId','Name'],axis = 1)"
   ]
  },
  {
   "cell_type": "code",
   "execution_count": 32,
   "id": "fe7b4c13",
   "metadata": {},
   "outputs": [
    {
     "data": {
      "text/plain": [
       "array([nan, 'B45', 'E31', 'B57 B59 B63 B66', 'B36', 'A21', 'C78', 'D34',\n",
       "       'D19', 'A9', 'D15', 'C31', 'C23 C25 C27', 'F G63', 'B61', 'C53',\n",
       "       'D43', 'C130', 'C132', 'C101', 'C55 C57', 'B71', 'C46', 'C116',\n",
       "       'F', 'A29', 'G6', 'C6', 'C28', 'C51', 'E46', 'C54', 'C97', 'D22',\n",
       "       'B10', 'F4', 'E45', 'E52', 'D30', 'B58 B60', 'E34', 'C62 C64',\n",
       "       'A11', 'B11', 'C80', 'F33', 'C85', 'D37', 'C86', 'D21', 'C89',\n",
       "       'F E46', 'A34', 'D', 'B26', 'C22 C26', 'B69', 'C32', 'B78',\n",
       "       'F E57', 'F2', 'A18', 'C106', 'B51 B53 B55', 'D10 D12', 'E60',\n",
       "       'E50', 'E39 E41', 'B52 B54 B56', 'C39', 'B24', 'D28', 'B41', 'C7',\n",
       "       'D40', 'D38', 'C105'], dtype=object)"
      ]
     },
     "execution_count": 32,
     "metadata": {},
     "output_type": "execute_result"
    }
   ],
   "source": [
    "df['Cabin'].unique()"
   ]
  },
  {
   "cell_type": "code",
   "execution_count": 33,
   "id": "f993361a",
   "metadata": {},
   "outputs": [],
   "source": [
    "df['Cabin_single'] = df['Cabin'].astype(str).str[0]\n"
   ]
  },
  {
   "cell_type": "code",
   "execution_count": 35,
   "id": "991e0744",
   "metadata": {},
   "outputs": [
    {
     "data": {
      "text/html": [
       "<div>\n",
       "<style scoped>\n",
       "    .dataframe tbody tr th:only-of-type {\n",
       "        vertical-align: middle;\n",
       "    }\n",
       "\n",
       "    .dataframe tbody tr th {\n",
       "        vertical-align: top;\n",
       "    }\n",
       "\n",
       "    .dataframe thead th {\n",
       "        text-align: right;\n",
       "    }\n",
       "</style>\n",
       "<table border=\"1\" class=\"dataframe\">\n",
       "  <thead>\n",
       "    <tr style=\"text-align: right;\">\n",
       "      <th></th>\n",
       "      <th>Cabin</th>\n",
       "      <th>Cabin_single</th>\n",
       "    </tr>\n",
       "  </thead>\n",
       "  <tbody>\n",
       "    <tr>\n",
       "      <th>0</th>\n",
       "      <td>NaN</td>\n",
       "      <td>n</td>\n",
       "    </tr>\n",
       "    <tr>\n",
       "      <th>1</th>\n",
       "      <td>NaN</td>\n",
       "      <td>n</td>\n",
       "    </tr>\n",
       "    <tr>\n",
       "      <th>2</th>\n",
       "      <td>NaN</td>\n",
       "      <td>n</td>\n",
       "    </tr>\n",
       "    <tr>\n",
       "      <th>3</th>\n",
       "      <td>NaN</td>\n",
       "      <td>n</td>\n",
       "    </tr>\n",
       "    <tr>\n",
       "      <th>4</th>\n",
       "      <td>NaN</td>\n",
       "      <td>n</td>\n",
       "    </tr>\n",
       "  </tbody>\n",
       "</table>\n",
       "</div>"
      ],
      "text/plain": [
       "  Cabin Cabin_single\n",
       "0   NaN            n\n",
       "1   NaN            n\n",
       "2   NaN            n\n",
       "3   NaN            n\n",
       "4   NaN            n"
      ]
     },
     "execution_count": 35,
     "metadata": {},
     "output_type": "execute_result"
    }
   ],
   "source": [
    "df[['Cabin','Cabin_single']].head()"
   ]
  },
  {
   "cell_type": "code",
   "execution_count": 40,
   "id": "99be6168",
   "metadata": {},
   "outputs": [
    {
     "name": "stdout",
     "output_type": "stream",
     "text": [
      "Number of unique values in normal cabin varible = 77 \n",
      "Number of unique values in single cabin varible = 8 \n"
     ]
    }
   ],
   "source": [
    "print(\"Number of unique values in normal cabin varible = {} \".format(len(df['Cabin'].unique())))\n",
    "print(\"Number of unique values in single cabin varible = {} \".format(len(df['Cabin_single'].unique())))\n"
   ]
  },
  {
   "cell_type": "code",
   "execution_count": 42,
   "id": "e26dc392",
   "metadata": {},
   "outputs": [
    {
     "data": {
      "text/plain": [
       "3"
      ]
     },
     "execution_count": 42,
     "metadata": {},
     "output_type": "execute_result"
    }
   ],
   "source": [
    "len(df['Embarked'].unique())"
   ]
  },
  {
   "cell_type": "code",
   "execution_count": 43,
   "id": "60544642",
   "metadata": {},
   "outputs": [],
   "source": [
    "from sklearn.model_selection import train_test_split"
   ]
  },
  {
   "cell_type": "code",
   "execution_count": 44,
   "id": "e99f976c",
   "metadata": {},
   "outputs": [],
   "source": [
    "use_cols = ['Cabin','Cabin_single','Embarked','Sex']"
   ]
  },
  {
   "cell_type": "code",
   "execution_count": 45,
   "id": "98479a15",
   "metadata": {},
   "outputs": [],
   "source": [
    "X_train , X_test , y_train , y_test = train_test_split(df[use_cols] , df['Survived'], test_size = 0.33 , random_state = 42)"
   ]
  },
  {
   "cell_type": "markdown",
   "id": "228ebf81",
   "metadata": {},
   "source": [
    "- checking cardinality in different ways , cardinality will work only for categorical data "
   ]
  },
  {
   "cell_type": "code",
   "execution_count": 46,
   "id": "3f2efc00",
   "metadata": {},
   "outputs": [
    {
     "data": {
      "text/plain": [
       "77"
      ]
     },
     "execution_count": 46,
     "metadata": {},
     "output_type": "execute_result"
    }
   ],
   "source": [
    "len(df['Cabin'].unique())"
   ]
  },
  {
   "cell_type": "markdown",
   "id": "f914c776",
   "metadata": {},
   "source": [
    "### checking in training part "
   ]
  },
  {
   "cell_type": "code",
   "execution_count": 47,
   "id": "39a0131e",
   "metadata": {},
   "outputs": [
    {
     "data": {
      "text/plain": [
       "56"
      ]
     },
     "execution_count": 47,
     "metadata": {},
     "output_type": "execute_result"
    }
   ],
   "source": [
    "len(X_train['Cabin'].unique())"
   ]
  },
  {
   "cell_type": "code",
   "execution_count": 48,
   "id": "22749a5c",
   "metadata": {},
   "outputs": [
    {
     "data": {
      "text/plain": [
       "49"
      ]
     },
     "execution_count": 48,
     "metadata": {},
     "output_type": "execute_result"
    }
   ],
   "source": [
    "train_cabin = [i for i in X_train['Cabin'].unique() if i not in X_test['Cabin'].unique()]\n",
    "len(train_cabin)"
   ]
  },
  {
   "cell_type": "markdown",
   "id": "ff77235e",
   "metadata": {},
   "source": [
    "49 unique labels present only in training data they are not in test data list"
   ]
  },
  {
   "cell_type": "markdown",
   "id": "7b70cdae",
   "metadata": {},
   "source": [
    "#### checking in test part"
   ]
  },
  {
   "cell_type": "code",
   "execution_count": 49,
   "id": "f8a85fbb",
   "metadata": {},
   "outputs": [
    {
     "data": {
      "text/plain": [
       "22"
      ]
     },
     "execution_count": 49,
     "metadata": {},
     "output_type": "execute_result"
    }
   ],
   "source": [
    "test_cabin = [j for j in X_test['Cabin'].unique() if j not in X_train['Cabin'].unique()]\n",
    "len(test_cabin)"
   ]
  },
  {
   "cell_type": "markdown",
   "id": "c76fc98b",
   "metadata": {},
   "source": [
    "22 labels where present only in test data but they are not present in training data this leads to overfitting problem , so How to overcome this problem ? "
   ]
  },
  {
   "cell_type": "markdown",
   "id": "2ddd1ee7",
   "metadata": {},
   "source": [
    "### checking with replaced cabin single value "
   ]
  },
  {
   "cell_type": "code",
   "execution_count": 50,
   "id": "684d3cd9",
   "metadata": {},
   "outputs": [
    {
     "data": {
      "text/html": [
       "<div>\n",
       "<style scoped>\n",
       "    .dataframe tbody tr th:only-of-type {\n",
       "        vertical-align: middle;\n",
       "    }\n",
       "\n",
       "    .dataframe tbody tr th {\n",
       "        vertical-align: top;\n",
       "    }\n",
       "\n",
       "    .dataframe thead th {\n",
       "        text-align: right;\n",
       "    }\n",
       "</style>\n",
       "<table border=\"1\" class=\"dataframe\">\n",
       "  <thead>\n",
       "    <tr style=\"text-align: right;\">\n",
       "      <th></th>\n",
       "      <th>Cabin</th>\n",
       "      <th>Cabin_single</th>\n",
       "      <th>Embarked</th>\n",
       "      <th>Sex</th>\n",
       "    </tr>\n",
       "  </thead>\n",
       "  <tbody>\n",
       "    <tr>\n",
       "      <th>109</th>\n",
       "      <td>F</td>\n",
       "      <td>F</td>\n",
       "      <td>S</td>\n",
       "      <td>male</td>\n",
       "    </tr>\n",
       "    <tr>\n",
       "      <th>176</th>\n",
       "      <td>NaN</td>\n",
       "      <td>n</td>\n",
       "      <td>S</td>\n",
       "      <td>female</td>\n",
       "    </tr>\n",
       "    <tr>\n",
       "      <th>366</th>\n",
       "      <td>NaN</td>\n",
       "      <td>n</td>\n",
       "      <td>C</td>\n",
       "      <td>male</td>\n",
       "    </tr>\n",
       "    <tr>\n",
       "      <th>407</th>\n",
       "      <td>C80</td>\n",
       "      <td>C</td>\n",
       "      <td>C</td>\n",
       "      <td>male</td>\n",
       "    </tr>\n",
       "    <tr>\n",
       "      <th>280</th>\n",
       "      <td>NaN</td>\n",
       "      <td>n</td>\n",
       "      <td>S</td>\n",
       "      <td>female</td>\n",
       "    </tr>\n",
       "  </tbody>\n",
       "</table>\n",
       "</div>"
      ],
      "text/plain": [
       "    Cabin Cabin_single Embarked     Sex\n",
       "109     F            F        S    male\n",
       "176   NaN            n        S  female\n",
       "366   NaN            n        C    male\n",
       "407   C80            C        C    male\n",
       "280   NaN            n        S  female"
      ]
     },
     "execution_count": 50,
     "metadata": {},
     "output_type": "execute_result"
    }
   ],
   "source": [
    "X_train.head()"
   ]
  },
  {
   "cell_type": "code",
   "execution_count": 65,
   "id": "e8bce096",
   "metadata": {},
   "outputs": [
    {
     "name": "stdout",
     "output_type": "stream",
     "text": [
      "['G']\n"
     ]
    }
   ],
   "source": [
    "train_single_cabin = [k for k in X_train['Cabin_single'].unique() if k not in X_test['Cabin_single'].unique()]\n",
    "print(train_single_cabin)\n",
    "#print(len(train_single_cabin))\n",
    "\n",
    "\n"
   ]
  },
  {
   "cell_type": "code",
   "execution_count": 53,
   "id": "0e9c1f75",
   "metadata": {},
   "outputs": [
    {
     "data": {
      "text/plain": [
       "array(['F', 'n', 'C', 'A', 'E', 'B', 'D', 'G'], dtype=object)"
      ]
     },
     "execution_count": 53,
     "metadata": {},
     "output_type": "execute_result"
    }
   ],
   "source": [
    "X_train['Cabin_single'].unique()"
   ]
  },
  {
   "cell_type": "markdown",
   "id": "f71a95e8",
   "metadata": {},
   "source": [
    "### checking for test"
   ]
  },
  {
   "cell_type": "code",
   "execution_count": 67,
   "id": "0fd76872",
   "metadata": {},
   "outputs": [
    {
     "name": "stdout",
     "output_type": "stream",
     "text": [
      "[]\n"
     ]
    }
   ],
   "source": [
    "test_single_cabin = [k1 for k1 in X_test['Cabin_single'].unique() if k1 not in X_train['Cabin_single'].unique()]\n",
    "#len(train_single_cabin)\n",
    "print(test_single_cabin)"
   ]
  },
  {
   "cell_type": "code",
   "execution_count": 54,
   "id": "702843aa",
   "metadata": {},
   "outputs": [
    {
     "data": {
      "text/plain": [
       "array(['F', 'n', 'D', 'C', 'E', 'A', 'B'], dtype=object)"
      ]
     },
     "execution_count": 54,
     "metadata": {},
     "output_type": "execute_result"
    }
   ],
   "source": [
    "X_test['Cabin_single'].unique()"
   ]
  },
  {
   "cell_type": "markdown",
   "id": "653d20b1",
   "metadata": {},
   "source": [
    "### comparing with values "
   ]
  },
  {
   "cell_type": "code",
   "execution_count": 69,
   "id": "5ecd884d",
   "metadata": {},
   "outputs": [],
   "source": [
    "cabin_dict_values = {j : i for i , j in enumerate(X_train['Cabin'].unique() , 0)}"
   ]
  },
  {
   "cell_type": "code",
   "execution_count": 70,
   "id": "f963da9b",
   "metadata": {},
   "outputs": [
    {
     "data": {
      "text/plain": [
       "{'F': 0,\n",
       " nan: 1,\n",
       " 'C80': 2,\n",
       " 'C130': 3,\n",
       " 'A11': 4,\n",
       " 'E52': 5,\n",
       " 'B41': 6,\n",
       " 'C101': 7,\n",
       " 'C116': 8,\n",
       " 'B61': 9,\n",
       " 'D22': 10,\n",
       " 'C54': 11,\n",
       " 'C55 C57': 12,\n",
       " 'B58 B60': 13,\n",
       " 'B71': 14,\n",
       " 'C23 C25 C27': 15,\n",
       " 'C46': 16,\n",
       " 'C53': 17,\n",
       " 'C28': 18,\n",
       " 'C62 C64': 19,\n",
       " 'D30': 20,\n",
       " 'C86': 21,\n",
       " 'E46': 22,\n",
       " 'F2': 23,\n",
       " 'C85': 24,\n",
       " 'A29': 25,\n",
       " 'E45': 26,\n",
       " 'B26': 27,\n",
       " 'G6': 28,\n",
       " 'C31': 29,\n",
       " 'D10 D12': 30,\n",
       " 'D19': 31,\n",
       " 'E34': 32,\n",
       " 'B45': 33,\n",
       " 'A21': 34,\n",
       " 'B57 B59 B63 B66': 35,\n",
       " 'C32': 36,\n",
       " 'F4': 37,\n",
       " 'D34': 38,\n",
       " 'A34': 39,\n",
       " 'B11': 40,\n",
       " 'D38': 41,\n",
       " 'F E46': 42,\n",
       " 'E60': 43,\n",
       " 'E31': 44,\n",
       " 'C97': 45,\n",
       " 'D37': 46,\n",
       " 'C78': 47,\n",
       " 'B10': 48,\n",
       " 'C22 C26': 49,\n",
       " 'D15': 50,\n",
       " 'C89': 51,\n",
       " 'B51 B53 B55': 52,\n",
       " 'B69': 53,\n",
       " 'B52 B54 B56': 54,\n",
       " 'C6': 55}"
      ]
     },
     "execution_count": 70,
     "metadata": {},
     "output_type": "execute_result"
    }
   ],
   "source": [
    "cabin_dict_values"
   ]
  },
  {
   "cell_type": "code",
   "execution_count": 71,
   "id": "02507ef6",
   "metadata": {},
   "outputs": [
    {
     "data": {
      "text/plain": [
       "Index(['Cabin', 'Cabin_single', 'Embarked', 'Sex'], dtype='object')"
      ]
     },
     "execution_count": 71,
     "metadata": {},
     "output_type": "execute_result"
    }
   ],
   "source": [
    "X_train.columns"
   ]
  },
  {
   "cell_type": "code",
   "execution_count": 72,
   "id": "8deb7029",
   "metadata": {},
   "outputs": [
    {
     "data": {
      "text/plain": [
       "Index(['Cabin', 'Cabin_single', 'Embarked', 'Sex'], dtype='object')"
      ]
     },
     "execution_count": 72,
     "metadata": {},
     "output_type": "execute_result"
    }
   ],
   "source": [
    "X_test.columns"
   ]
  },
  {
   "cell_type": "code",
   "execution_count": 74,
   "id": "582f6c76",
   "metadata": {},
   "outputs": [],
   "source": [
    "X_train.loc[: , 'Cabin_dict'] = X_train.loc[: , 'Cabin'].map(cabin_dict_values)\n",
    "X_test.loc[: , 'Cabin_dict'] = X_test.loc[: , 'Cabin'].map(cabin_dict_values)"
   ]
  },
  {
   "cell_type": "code",
   "execution_count": 75,
   "id": "74d7587c",
   "metadata": {},
   "outputs": [
    {
     "data": {
      "text/plain": [
       "Index(['Cabin', 'Cabin_single', 'Embarked', 'Sex', 'Cabin_dict'], dtype='object')"
      ]
     },
     "execution_count": 75,
     "metadata": {},
     "output_type": "execute_result"
    }
   ],
   "source": [
    "X_train.columns"
   ]
  },
  {
   "cell_type": "code",
   "execution_count": 78,
   "id": "20be3cb8",
   "metadata": {},
   "outputs": [
    {
     "data": {
      "text/html": [
       "<div>\n",
       "<style scoped>\n",
       "    .dataframe tbody tr th:only-of-type {\n",
       "        vertical-align: middle;\n",
       "    }\n",
       "\n",
       "    .dataframe tbody tr th {\n",
       "        vertical-align: top;\n",
       "    }\n",
       "\n",
       "    .dataframe thead th {\n",
       "        text-align: right;\n",
       "    }\n",
       "</style>\n",
       "<table border=\"1\" class=\"dataframe\">\n",
       "  <thead>\n",
       "    <tr style=\"text-align: right;\">\n",
       "      <th></th>\n",
       "      <th>Cabin</th>\n",
       "      <th>Cabin_dict</th>\n",
       "    </tr>\n",
       "  </thead>\n",
       "  <tbody>\n",
       "    <tr>\n",
       "      <th>109</th>\n",
       "      <td>F</td>\n",
       "      <td>0</td>\n",
       "    </tr>\n",
       "    <tr>\n",
       "      <th>176</th>\n",
       "      <td>NaN</td>\n",
       "      <td>1</td>\n",
       "    </tr>\n",
       "    <tr>\n",
       "      <th>366</th>\n",
       "      <td>NaN</td>\n",
       "      <td>1</td>\n",
       "    </tr>\n",
       "    <tr>\n",
       "      <th>407</th>\n",
       "      <td>C80</td>\n",
       "      <td>2</td>\n",
       "    </tr>\n",
       "    <tr>\n",
       "      <th>280</th>\n",
       "      <td>NaN</td>\n",
       "      <td>1</td>\n",
       "    </tr>\n",
       "    <tr>\n",
       "      <th>...</th>\n",
       "      <td>...</td>\n",
       "      <td>...</td>\n",
       "    </tr>\n",
       "    <tr>\n",
       "      <th>71</th>\n",
       "      <td>NaN</td>\n",
       "      <td>1</td>\n",
       "    </tr>\n",
       "    <tr>\n",
       "      <th>106</th>\n",
       "      <td>NaN</td>\n",
       "      <td>1</td>\n",
       "    </tr>\n",
       "    <tr>\n",
       "      <th>270</th>\n",
       "      <td>C6</td>\n",
       "      <td>55</td>\n",
       "    </tr>\n",
       "    <tr>\n",
       "      <th>348</th>\n",
       "      <td>NaN</td>\n",
       "      <td>1</td>\n",
       "    </tr>\n",
       "    <tr>\n",
       "      <th>102</th>\n",
       "      <td>NaN</td>\n",
       "      <td>1</td>\n",
       "    </tr>\n",
       "  </tbody>\n",
       "</table>\n",
       "<p>280 rows × 2 columns</p>\n",
       "</div>"
      ],
      "text/plain": [
       "    Cabin  Cabin_dict\n",
       "109     F           0\n",
       "176   NaN           1\n",
       "366   NaN           1\n",
       "407   C80           2\n",
       "280   NaN           1\n",
       "..    ...         ...\n",
       "71    NaN           1\n",
       "106   NaN           1\n",
       "270    C6          55\n",
       "348   NaN           1\n",
       "102   NaN           1\n",
       "\n",
       "[280 rows x 2 columns]"
      ]
     },
     "execution_count": 78,
     "metadata": {},
     "output_type": "execute_result"
    }
   ],
   "source": [
    "X_train[['Cabin','Cabin_dict']]"
   ]
  },
  {
   "cell_type": "code",
   "execution_count": 79,
   "id": "b07b8420",
   "metadata": {},
   "outputs": [
    {
     "data": {
      "text/html": [
       "<div>\n",
       "<style scoped>\n",
       "    .dataframe tbody tr th:only-of-type {\n",
       "        vertical-align: middle;\n",
       "    }\n",
       "\n",
       "    .dataframe tbody tr th {\n",
       "        vertical-align: top;\n",
       "    }\n",
       "\n",
       "    .dataframe thead th {\n",
       "        text-align: right;\n",
       "    }\n",
       "</style>\n",
       "<table border=\"1\" class=\"dataframe\">\n",
       "  <thead>\n",
       "    <tr style=\"text-align: right;\">\n",
       "      <th></th>\n",
       "      <th>Cabin</th>\n",
       "      <th>Cabin_dict</th>\n",
       "    </tr>\n",
       "  </thead>\n",
       "  <tbody>\n",
       "    <tr>\n",
       "      <th>321</th>\n",
       "      <td>F E57</td>\n",
       "      <td>NaN</td>\n",
       "    </tr>\n",
       "    <tr>\n",
       "      <th>324</th>\n",
       "      <td>NaN</td>\n",
       "      <td>1.0</td>\n",
       "    </tr>\n",
       "    <tr>\n",
       "      <th>388</th>\n",
       "      <td>NaN</td>\n",
       "      <td>1.0</td>\n",
       "    </tr>\n",
       "    <tr>\n",
       "      <th>56</th>\n",
       "      <td>NaN</td>\n",
       "      <td>1.0</td>\n",
       "    </tr>\n",
       "    <tr>\n",
       "      <th>153</th>\n",
       "      <td>NaN</td>\n",
       "      <td>1.0</td>\n",
       "    </tr>\n",
       "    <tr>\n",
       "      <th>...</th>\n",
       "      <td>...</td>\n",
       "      <td>...</td>\n",
       "    </tr>\n",
       "    <tr>\n",
       "      <th>371</th>\n",
       "      <td>E39 E41</td>\n",
       "      <td>NaN</td>\n",
       "    </tr>\n",
       "    <tr>\n",
       "      <th>399</th>\n",
       "      <td>NaN</td>\n",
       "      <td>1.0</td>\n",
       "    </tr>\n",
       "    <tr>\n",
       "      <th>272</th>\n",
       "      <td>C89</td>\n",
       "      <td>51.0</td>\n",
       "    </tr>\n",
       "    <tr>\n",
       "      <th>400</th>\n",
       "      <td>C7</td>\n",
       "      <td>NaN</td>\n",
       "    </tr>\n",
       "    <tr>\n",
       "      <th>380</th>\n",
       "      <td>NaN</td>\n",
       "      <td>1.0</td>\n",
       "    </tr>\n",
       "  </tbody>\n",
       "</table>\n",
       "<p>138 rows × 2 columns</p>\n",
       "</div>"
      ],
      "text/plain": [
       "       Cabin  Cabin_dict\n",
       "321    F E57         NaN\n",
       "324      NaN         1.0\n",
       "388      NaN         1.0\n",
       "56       NaN         1.0\n",
       "153      NaN         1.0\n",
       "..       ...         ...\n",
       "371  E39 E41         NaN\n",
       "399      NaN         1.0\n",
       "272      C89        51.0\n",
       "400       C7         NaN\n",
       "380      NaN         1.0\n",
       "\n",
       "[138 rows x 2 columns]"
      ]
     },
     "execution_count": 79,
     "metadata": {},
     "output_type": "execute_result"
    }
   ],
   "source": [
    "X_test[['Cabin','Cabin_dict']]"
   ]
  },
  {
   "cell_type": "markdown",
   "id": "14600007",
   "metadata": {},
   "source": [
    "### with single cabin values "
   ]
  },
  {
   "cell_type": "code",
   "execution_count": 87,
   "id": "7599218d",
   "metadata": {},
   "outputs": [],
   "source": [
    "cabin_dict_values1 = {j : i for i , j in enumerate(X_train['Cabin_single'].unique() , 0)}"
   ]
  },
  {
   "cell_type": "code",
   "execution_count": 88,
   "id": "5920347e",
   "metadata": {},
   "outputs": [
    {
     "data": {
      "text/plain": [
       "{'F': 0, 'n': 1, 'C': 2, 'A': 3, 'E': 4, 'B': 5, 'D': 6, 'G': 7}"
      ]
     },
     "execution_count": 88,
     "metadata": {},
     "output_type": "execute_result"
    }
   ],
   "source": [
    "cabin_dict_values1"
   ]
  },
  {
   "cell_type": "code",
   "execution_count": 91,
   "id": "b44a4d67",
   "metadata": {},
   "outputs": [],
   "source": [
    "X_train.loc[: , 'Cabin_dict_single'] = X_train.loc[: , 'Cabin_single'].map(cabin_dict_values1)\n",
    "X_test.loc[: , 'Cabin_dict_single'] = X_test.loc[: , 'Cabin_single'].map(cabin_dict_values1)"
   ]
  },
  {
   "cell_type": "code",
   "execution_count": 92,
   "id": "b566a094",
   "metadata": {},
   "outputs": [
    {
     "data": {
      "text/plain": [
       "Index(['Cabin', 'Cabin_single', 'Embarked', 'Sex', 'Cabin_dict',\n",
       "       'Cabin_dict_single'],\n",
       "      dtype='object')"
      ]
     },
     "execution_count": 92,
     "metadata": {},
     "output_type": "execute_result"
    }
   ],
   "source": [
    "X_train.columns"
   ]
  },
  {
   "cell_type": "code",
   "execution_count": 94,
   "id": "6bfa3c1d",
   "metadata": {},
   "outputs": [
    {
     "data": {
      "text/html": [
       "<div>\n",
       "<style scoped>\n",
       "    .dataframe tbody tr th:only-of-type {\n",
       "        vertical-align: middle;\n",
       "    }\n",
       "\n",
       "    .dataframe tbody tr th {\n",
       "        vertical-align: top;\n",
       "    }\n",
       "\n",
       "    .dataframe thead th {\n",
       "        text-align: right;\n",
       "    }\n",
       "</style>\n",
       "<table border=\"1\" class=\"dataframe\">\n",
       "  <thead>\n",
       "    <tr style=\"text-align: right;\">\n",
       "      <th></th>\n",
       "      <th>Cabin</th>\n",
       "      <th>Cabin_dict_single</th>\n",
       "    </tr>\n",
       "  </thead>\n",
       "  <tbody>\n",
       "    <tr>\n",
       "      <th>109</th>\n",
       "      <td>F</td>\n",
       "      <td>0</td>\n",
       "    </tr>\n",
       "    <tr>\n",
       "      <th>176</th>\n",
       "      <td>NaN</td>\n",
       "      <td>1</td>\n",
       "    </tr>\n",
       "    <tr>\n",
       "      <th>366</th>\n",
       "      <td>NaN</td>\n",
       "      <td>1</td>\n",
       "    </tr>\n",
       "    <tr>\n",
       "      <th>407</th>\n",
       "      <td>C80</td>\n",
       "      <td>2</td>\n",
       "    </tr>\n",
       "    <tr>\n",
       "      <th>280</th>\n",
       "      <td>NaN</td>\n",
       "      <td>1</td>\n",
       "    </tr>\n",
       "    <tr>\n",
       "      <th>...</th>\n",
       "      <td>...</td>\n",
       "      <td>...</td>\n",
       "    </tr>\n",
       "    <tr>\n",
       "      <th>71</th>\n",
       "      <td>NaN</td>\n",
       "      <td>1</td>\n",
       "    </tr>\n",
       "    <tr>\n",
       "      <th>106</th>\n",
       "      <td>NaN</td>\n",
       "      <td>1</td>\n",
       "    </tr>\n",
       "    <tr>\n",
       "      <th>270</th>\n",
       "      <td>C6</td>\n",
       "      <td>2</td>\n",
       "    </tr>\n",
       "    <tr>\n",
       "      <th>348</th>\n",
       "      <td>NaN</td>\n",
       "      <td>1</td>\n",
       "    </tr>\n",
       "    <tr>\n",
       "      <th>102</th>\n",
       "      <td>NaN</td>\n",
       "      <td>1</td>\n",
       "    </tr>\n",
       "  </tbody>\n",
       "</table>\n",
       "<p>280 rows × 2 columns</p>\n",
       "</div>"
      ],
      "text/plain": [
       "    Cabin  Cabin_dict_single\n",
       "109     F                  0\n",
       "176   NaN                  1\n",
       "366   NaN                  1\n",
       "407   C80                  2\n",
       "280   NaN                  1\n",
       "..    ...                ...\n",
       "71    NaN                  1\n",
       "106   NaN                  1\n",
       "270    C6                  2\n",
       "348   NaN                  1\n",
       "102   NaN                  1\n",
       "\n",
       "[280 rows x 2 columns]"
      ]
     },
     "execution_count": 94,
     "metadata": {},
     "output_type": "execute_result"
    }
   ],
   "source": [
    "X_train[['Cabin','Cabin_dict_single']]"
   ]
  },
  {
   "cell_type": "code",
   "execution_count": 95,
   "id": "791b8618",
   "metadata": {},
   "outputs": [
    {
     "data": {
      "text/plain": [
       "Cabin                217\n",
       "Cabin_single           0\n",
       "Embarked               0\n",
       "Sex                    0\n",
       "Cabin_dict             0\n",
       "Cabin_dict_single      0\n",
       "dtype: int64"
      ]
     },
     "execution_count": 95,
     "metadata": {},
     "output_type": "execute_result"
    }
   ],
   "source": [
    "X_train.isnull().sum()"
   ]
  },
  {
   "cell_type": "code",
   "execution_count": 96,
   "id": "86b08213",
   "metadata": {},
   "outputs": [
    {
     "data": {
      "text/plain": [
       "Cabin                110\n",
       "Cabin_single           0\n",
       "Embarked               0\n",
       "Sex                    0\n",
       "Cabin_dict            21\n",
       "Cabin_dict_single      0\n",
       "dtype: int64"
      ]
     },
     "execution_count": 96,
     "metadata": {},
     "output_type": "execute_result"
    }
   ],
   "source": [
    "X_test.isnull().sum()"
   ]
  },
  {
   "cell_type": "code",
   "execution_count": null,
   "id": "3662740f",
   "metadata": {},
   "outputs": [],
   "source": []
  }
 ],
 "metadata": {
  "kernelspec": {
   "display_name": "Python 3 (ipykernel)",
   "language": "python",
   "name": "python3"
  },
  "language_info": {
   "codemirror_mode": {
    "name": "ipython",
    "version": 3
   },
   "file_extension": ".py",
   "mimetype": "text/x-python",
   "name": "python",
   "nbconvert_exporter": "python",
   "pygments_lexer": "ipython3",
   "version": "3.8.12"
  }
 },
 "nbformat": 4,
 "nbformat_minor": 5
}
